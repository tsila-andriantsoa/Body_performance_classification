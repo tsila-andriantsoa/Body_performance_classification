{
 "cells": [
  {
   "cell_type": "code",
   "execution_count": 1,
   "id": "c1deba1e-a611-45cd-8493-14a8c6464568",
   "metadata": {
    "tags": []
   },
   "outputs": [],
   "source": [
    "import pandas as pd\n",
    "import numpy as np\n",
    "import matplotlib.pyplot as plt\n",
    "import seaborn as sns\n",
    "from sklearn.model_selection import train_test_split, StratifiedKFold\n",
    "\n",
    "from sklearn.ensemble import RandomForestClassifier\n",
    "from sklearn.tree import DecisionTreeClassifier\n",
    "import xgboost as xgb\n",
    "\n",
    "RANDOM_STATE = 42"
   ]
  },
  {
   "cell_type": "markdown",
   "id": "f6f4742c-c984-45fe-8eea-0e17954caace",
   "metadata": {},
   "source": [
    "### Data importation"
   ]
  },
  {
   "cell_type": "code",
   "execution_count": 2,
   "id": "fc1333e8-f31d-4e1c-9cc8-4d32b34eb78f",
   "metadata": {
    "tags": []
   },
   "outputs": [
    {
     "data": {
      "text/html": [
       "<div>\n",
       "<style scoped>\n",
       "    .dataframe tbody tr th:only-of-type {\n",
       "        vertical-align: middle;\n",
       "    }\n",
       "\n",
       "    .dataframe tbody tr th {\n",
       "        vertical-align: top;\n",
       "    }\n",
       "\n",
       "    .dataframe thead th {\n",
       "        text-align: right;\n",
       "    }\n",
       "</style>\n",
       "<table border=\"1\" class=\"dataframe\">\n",
       "  <thead>\n",
       "    <tr style=\"text-align: right;\">\n",
       "      <th></th>\n",
       "      <th>age</th>\n",
       "      <th>gender</th>\n",
       "      <th>height_cm</th>\n",
       "      <th>weight_kg</th>\n",
       "      <th>body fat_%</th>\n",
       "      <th>diastolic</th>\n",
       "      <th>systolic</th>\n",
       "      <th>gripForce</th>\n",
       "      <th>sit and bend forward_cm</th>\n",
       "      <th>sit-ups counts</th>\n",
       "      <th>broad jump_cm</th>\n",
       "      <th>class</th>\n",
       "    </tr>\n",
       "  </thead>\n",
       "  <tbody>\n",
       "    <tr>\n",
       "      <th>0</th>\n",
       "      <td>27.0</td>\n",
       "      <td>M</td>\n",
       "      <td>172.3</td>\n",
       "      <td>75.24</td>\n",
       "      <td>21.3</td>\n",
       "      <td>80.0</td>\n",
       "      <td>130.0</td>\n",
       "      <td>54.9</td>\n",
       "      <td>18.4</td>\n",
       "      <td>60.0</td>\n",
       "      <td>217.0</td>\n",
       "      <td>C</td>\n",
       "    </tr>\n",
       "    <tr>\n",
       "      <th>1</th>\n",
       "      <td>25.0</td>\n",
       "      <td>M</td>\n",
       "      <td>165.0</td>\n",
       "      <td>55.80</td>\n",
       "      <td>15.7</td>\n",
       "      <td>77.0</td>\n",
       "      <td>126.0</td>\n",
       "      <td>36.4</td>\n",
       "      <td>16.3</td>\n",
       "      <td>53.0</td>\n",
       "      <td>229.0</td>\n",
       "      <td>A</td>\n",
       "    </tr>\n",
       "    <tr>\n",
       "      <th>2</th>\n",
       "      <td>31.0</td>\n",
       "      <td>M</td>\n",
       "      <td>179.6</td>\n",
       "      <td>78.00</td>\n",
       "      <td>20.1</td>\n",
       "      <td>92.0</td>\n",
       "      <td>152.0</td>\n",
       "      <td>44.8</td>\n",
       "      <td>12.0</td>\n",
       "      <td>49.0</td>\n",
       "      <td>181.0</td>\n",
       "      <td>C</td>\n",
       "    </tr>\n",
       "    <tr>\n",
       "      <th>3</th>\n",
       "      <td>32.0</td>\n",
       "      <td>M</td>\n",
       "      <td>174.5</td>\n",
       "      <td>71.10</td>\n",
       "      <td>18.4</td>\n",
       "      <td>76.0</td>\n",
       "      <td>147.0</td>\n",
       "      <td>41.4</td>\n",
       "      <td>15.2</td>\n",
       "      <td>53.0</td>\n",
       "      <td>219.0</td>\n",
       "      <td>B</td>\n",
       "    </tr>\n",
       "    <tr>\n",
       "      <th>4</th>\n",
       "      <td>28.0</td>\n",
       "      <td>M</td>\n",
       "      <td>173.8</td>\n",
       "      <td>67.70</td>\n",
       "      <td>17.1</td>\n",
       "      <td>70.0</td>\n",
       "      <td>127.0</td>\n",
       "      <td>43.5</td>\n",
       "      <td>27.1</td>\n",
       "      <td>45.0</td>\n",
       "      <td>217.0</td>\n",
       "      <td>B</td>\n",
       "    </tr>\n",
       "  </tbody>\n",
       "</table>\n",
       "</div>"
      ],
      "text/plain": [
       "    age gender  height_cm  weight_kg  body fat_%  diastolic  systolic  \\\n",
       "0  27.0      M      172.3      75.24        21.3       80.0     130.0   \n",
       "1  25.0      M      165.0      55.80        15.7       77.0     126.0   \n",
       "2  31.0      M      179.6      78.00        20.1       92.0     152.0   \n",
       "3  32.0      M      174.5      71.10        18.4       76.0     147.0   \n",
       "4  28.0      M      173.8      67.70        17.1       70.0     127.0   \n",
       "\n",
       "   gripForce  sit and bend forward_cm  sit-ups counts  broad jump_cm class  \n",
       "0       54.9                     18.4            60.0          217.0     C  \n",
       "1       36.4                     16.3            53.0          229.0     A  \n",
       "2       44.8                     12.0            49.0          181.0     C  \n",
       "3       41.4                     15.2            53.0          219.0     B  \n",
       "4       43.5                     27.1            45.0          217.0     B  "
      ]
     },
     "execution_count": 2,
     "metadata": {},
     "output_type": "execute_result"
    }
   ],
   "source": [
    "data = pd.read_csv('../data/bodyPerformance.csv')\n",
    "data.head()"
   ]
  },
  {
   "cell_type": "markdown",
   "id": "d175faf6-cf54-4c4d-8f3b-8055393c2cd2",
   "metadata": {},
   "source": [
    "### Data preparation"
   ]
  },
  {
   "cell_type": "code",
   "execution_count": 3,
   "id": "2ac98b1e-337b-448f-a903-ee319ea8fa4f",
   "metadata": {
    "tags": []
   },
   "outputs": [],
   "source": [
    "# renames columns\n",
    "new_col_names = ['age', 'gender', 'height_cm', 'weight_kg', 'body_fat_%', 'diastolic',\n",
    "       'systolic', 'gripForce', 'sit_and_bend_forward_cm', 'sit_ups_counts',\n",
    "       'broad_jump_cm', 'class']\n",
    "data.columns = new_col_names"
   ]
  },
  {
   "cell_type": "code",
   "execution_count": 4,
   "id": "f02e9978-606b-4fb6-a7c1-7e4457c302fa",
   "metadata": {
    "tags": []
   },
   "outputs": [
    {
     "data": {
      "text/plain": [
       "((10714, 12), (2679, 12))"
      ]
     },
     "execution_count": 4,
     "metadata": {},
     "output_type": "execute_result"
    }
   ],
   "source": [
    "# split data into train validation and test\n",
    "df_full_train, df_test = train_test_split(data, train_size=.8, random_state = RANDOM_STATE)\n",
    "df_full_train.shape, df_test.shape"
   ]
  },
  {
   "cell_type": "code",
   "execution_count": 5,
   "id": "514bcc36-69fa-498b-ab6a-e9056e1ae939",
   "metadata": {
    "tags": []
   },
   "outputs": [],
   "source": [
    "df_full_train.reset_index(drop = True, inplace = True)\n",
    "df_test.reset_index(drop = True, inplace = True)"
   ]
  },
  {
   "cell_type": "markdown",
   "id": "ebbaf041-ffc5-4ca2-9271-3bf4ee244f14",
   "metadata": {},
   "source": [
    "### Data preprocessing"
   ]
  },
  {
   "cell_type": "code",
   "execution_count": 6,
   "id": "e626a5f5-db41-424e-8792-e0ae240e941a",
   "metadata": {
    "tags": []
   },
   "outputs": [
    {
     "data": {
      "text/plain": [
       "age                        0\n",
       "gender                     0\n",
       "height_cm                  0\n",
       "weight_kg                  0\n",
       "body_fat_%                 0\n",
       "diastolic                  0\n",
       "systolic                   0\n",
       "gripForce                  0\n",
       "sit_and_bend_forward_cm    0\n",
       "sit_ups_counts             0\n",
       "broad_jump_cm              0\n",
       "class                      0\n",
       "dtype: int64"
      ]
     },
     "execution_count": 6,
     "metadata": {},
     "output_type": "execute_result"
    }
   ],
   "source": [
    "# check NA values\n",
    "df_full_train.isnull().sum()"
   ]
  },
  {
   "cell_type": "code",
   "execution_count": 7,
   "id": "60d35b2a-e481-4b64-9c1a-d9b50ac037b2",
   "metadata": {
    "tags": []
   },
   "outputs": [],
   "source": [
    "# drop duplicated rows\n",
    "df_full_train.drop_duplicates(inplace = True)"
   ]
  },
  {
   "cell_type": "code",
   "execution_count": 8,
   "id": "40ea2f47-92c3-4adb-a2ef-60a1ca1ac9a0",
   "metadata": {
    "tags": []
   },
   "outputs": [
    {
     "name": "stdout",
     "output_type": "stream",
     "text": [
      "<class 'pandas.core.frame.DataFrame'>\n",
      "Index: 10713 entries, 0 to 10713\n",
      "Data columns (total 12 columns):\n",
      " #   Column                   Non-Null Count  Dtype  \n",
      "---  ------                   --------------  -----  \n",
      " 0   age                      10713 non-null  float64\n",
      " 1   gender                   10713 non-null  object \n",
      " 2   height_cm                10713 non-null  float64\n",
      " 3   weight_kg                10713 non-null  float64\n",
      " 4   body_fat_%               10713 non-null  float64\n",
      " 5   diastolic                10713 non-null  float64\n",
      " 6   systolic                 10713 non-null  float64\n",
      " 7   gripForce                10713 non-null  float64\n",
      " 8   sit_and_bend_forward_cm  10713 non-null  float64\n",
      " 9   sit_ups_counts           10713 non-null  float64\n",
      " 10  broad_jump_cm            10713 non-null  float64\n",
      " 11  class                    10713 non-null  object \n",
      "dtypes: float64(10), object(2)\n",
      "memory usage: 1.1+ MB\n"
     ]
    }
   ],
   "source": [
    "# check data type\n",
    "df_full_train.info()"
   ]
  },
  {
   "cell_type": "markdown",
   "id": "adb361b3-dd99-42c8-b02b-16e362f16dd8",
   "metadata": {},
   "source": [
    "### EDA"
   ]
  },
  {
   "cell_type": "markdown",
   "id": "2c34b7c0-452f-4efd-9cfc-d4fe63a75163",
   "metadata": {},
   "source": [
    "##### Numerical features"
   ]
  },
  {
   "cell_type": "code",
   "execution_count": 9,
   "id": "60fa1aa5-1ad8-41c5-b552-b3facd893d25",
   "metadata": {
    "tags": []
   },
   "outputs": [],
   "source": [
    "numerical_features = df_full_train.select_dtypes(include = ['float']).columns.tolist()"
   ]
  },
  {
   "cell_type": "markdown",
   "id": "06cc37d0-0eee-45e8-9757-b0771ddcc913",
   "metadata": {},
   "source": [
    "###### Statistics Summary"
   ]
  },
  {
   "cell_type": "code",
   "execution_count": 10,
   "id": "959b78d2-36b6-40e9-8a2e-5419c2c76942",
   "metadata": {
    "tags": []
   },
   "outputs": [
    {
     "data": {
      "text/html": [
       "<div>\n",
       "<style scoped>\n",
       "    .dataframe tbody tr th:only-of-type {\n",
       "        vertical-align: middle;\n",
       "    }\n",
       "\n",
       "    .dataframe tbody tr th {\n",
       "        vertical-align: top;\n",
       "    }\n",
       "\n",
       "    .dataframe thead th {\n",
       "        text-align: right;\n",
       "    }\n",
       "</style>\n",
       "<table border=\"1\" class=\"dataframe\">\n",
       "  <thead>\n",
       "    <tr style=\"text-align: right;\">\n",
       "      <th></th>\n",
       "      <th>count</th>\n",
       "      <th>mean</th>\n",
       "      <th>std</th>\n",
       "      <th>min</th>\n",
       "      <th>25%</th>\n",
       "      <th>50%</th>\n",
       "      <th>75%</th>\n",
       "      <th>max</th>\n",
       "    </tr>\n",
       "  </thead>\n",
       "  <tbody>\n",
       "    <tr>\n",
       "      <th>age</th>\n",
       "      <td>10713.0</td>\n",
       "      <td>36.855129</td>\n",
       "      <td>13.649564</td>\n",
       "      <td>21.0</td>\n",
       "      <td>25.00000</td>\n",
       "      <td>32.0</td>\n",
       "      <td>48.0</td>\n",
       "      <td>64.0</td>\n",
       "    </tr>\n",
       "    <tr>\n",
       "      <th>height_cm</th>\n",
       "      <td>10713.0</td>\n",
       "      <td>168.511883</td>\n",
       "      <td>8.457068</td>\n",
       "      <td>139.5</td>\n",
       "      <td>162.30000</td>\n",
       "      <td>169.1</td>\n",
       "      <td>174.7</td>\n",
       "      <td>192.0</td>\n",
       "    </tr>\n",
       "    <tr>\n",
       "      <th>weight_kg</th>\n",
       "      <td>10713.0</td>\n",
       "      <td>67.409394</td>\n",
       "      <td>11.914442</td>\n",
       "      <td>26.3</td>\n",
       "      <td>58.20000</td>\n",
       "      <td>67.4</td>\n",
       "      <td>75.3</td>\n",
       "      <td>138.1</td>\n",
       "    </tr>\n",
       "    <tr>\n",
       "      <th>body_fat_%</th>\n",
       "      <td>10713.0</td>\n",
       "      <td>23.266266</td>\n",
       "      <td>7.274963</td>\n",
       "      <td>3.0</td>\n",
       "      <td>18.04355</td>\n",
       "      <td>22.8</td>\n",
       "      <td>28.1</td>\n",
       "      <td>78.4</td>\n",
       "    </tr>\n",
       "    <tr>\n",
       "      <th>diastolic</th>\n",
       "      <td>10713.0</td>\n",
       "      <td>78.733791</td>\n",
       "      <td>10.694640</td>\n",
       "      <td>6.0</td>\n",
       "      <td>71.00000</td>\n",
       "      <td>79.0</td>\n",
       "      <td>86.0</td>\n",
       "      <td>156.2</td>\n",
       "    </tr>\n",
       "    <tr>\n",
       "      <th>systolic</th>\n",
       "      <td>10713.0</td>\n",
       "      <td>130.247260</td>\n",
       "      <td>14.700118</td>\n",
       "      <td>14.0</td>\n",
       "      <td>120.00000</td>\n",
       "      <td>130.0</td>\n",
       "      <td>141.0</td>\n",
       "      <td>195.0</td>\n",
       "    </tr>\n",
       "    <tr>\n",
       "      <th>gripForce</th>\n",
       "      <td>10713.0</td>\n",
       "      <td>36.888323</td>\n",
       "      <td>10.609572</td>\n",
       "      <td>0.0</td>\n",
       "      <td>27.40000</td>\n",
       "      <td>37.8</td>\n",
       "      <td>45.1</td>\n",
       "      <td>70.5</td>\n",
       "    </tr>\n",
       "    <tr>\n",
       "      <th>sit_and_bend_forward_cm</th>\n",
       "      <td>10713.0</td>\n",
       "      <td>15.222707</td>\n",
       "      <td>8.378547</td>\n",
       "      <td>-25.0</td>\n",
       "      <td>10.90000</td>\n",
       "      <td>16.2</td>\n",
       "      <td>20.8</td>\n",
       "      <td>213.0</td>\n",
       "    </tr>\n",
       "    <tr>\n",
       "      <th>sit_ups_counts</th>\n",
       "      <td>10713.0</td>\n",
       "      <td>39.724447</td>\n",
       "      <td>14.235785</td>\n",
       "      <td>0.0</td>\n",
       "      <td>30.00000</td>\n",
       "      <td>41.0</td>\n",
       "      <td>50.0</td>\n",
       "      <td>78.0</td>\n",
       "    </tr>\n",
       "    <tr>\n",
       "      <th>broad_jump_cm</th>\n",
       "      <td>10713.0</td>\n",
       "      <td>189.993289</td>\n",
       "      <td>39.802149</td>\n",
       "      <td>0.0</td>\n",
       "      <td>162.00000</td>\n",
       "      <td>193.0</td>\n",
       "      <td>221.0</td>\n",
       "      <td>303.0</td>\n",
       "    </tr>\n",
       "  </tbody>\n",
       "</table>\n",
       "</div>"
      ],
      "text/plain": [
       "                           count        mean        std    min        25%  \\\n",
       "age                      10713.0   36.855129  13.649564   21.0   25.00000   \n",
       "height_cm                10713.0  168.511883   8.457068  139.5  162.30000   \n",
       "weight_kg                10713.0   67.409394  11.914442   26.3   58.20000   \n",
       "body_fat_%               10713.0   23.266266   7.274963    3.0   18.04355   \n",
       "diastolic                10713.0   78.733791  10.694640    6.0   71.00000   \n",
       "systolic                 10713.0  130.247260  14.700118   14.0  120.00000   \n",
       "gripForce                10713.0   36.888323  10.609572    0.0   27.40000   \n",
       "sit_and_bend_forward_cm  10713.0   15.222707   8.378547  -25.0   10.90000   \n",
       "sit_ups_counts           10713.0   39.724447  14.235785    0.0   30.00000   \n",
       "broad_jump_cm            10713.0  189.993289  39.802149    0.0  162.00000   \n",
       "\n",
       "                           50%    75%    max  \n",
       "age                       32.0   48.0   64.0  \n",
       "height_cm                169.1  174.7  192.0  \n",
       "weight_kg                 67.4   75.3  138.1  \n",
       "body_fat_%                22.8   28.1   78.4  \n",
       "diastolic                 79.0   86.0  156.2  \n",
       "systolic                 130.0  141.0  195.0  \n",
       "gripForce                 37.8   45.1   70.5  \n",
       "sit_and_bend_forward_cm   16.2   20.8  213.0  \n",
       "sit_ups_counts            41.0   50.0   78.0  \n",
       "broad_jump_cm            193.0  221.0  303.0  "
      ]
     },
     "execution_count": 10,
     "metadata": {},
     "output_type": "execute_result"
    }
   ],
   "source": [
    "df_full_train[numerical_features].describe().T"
   ]
  },
  {
   "cell_type": "markdown",
   "id": "4491fa3d-40c8-4166-b824-612ff962badf",
   "metadata": {},
   "source": [
    "###### Univariate analysis"
   ]
  },
  {
   "cell_type": "code",
   "execution_count": 11,
   "id": "3d772c8c-4d52-49e2-8d6b-ed68de1f7a0d",
   "metadata": {
    "tags": []
   },
   "outputs": [
    {
     "name": "stdout",
     "output_type": "stream",
     "text": [
      "age\n",
      "Skew : 0.59\n"
     ]
    },
    {
     "data": {
      "image/png": "[encoded data removed]",
      "text/plain": [
       "<Figure size 800x300 with 2 Axes>"
      ]
     },
     "metadata": {},
     "output_type": "display_data"
    },
    {
     "name": "stdout",
     "output_type": "stream",
     "text": [
      "height_cm\n",
      "Skew : -0.17\n"
     ]
    },
    {
     "data": {
      "image/png": "[encoded data removed]",
      "text/plain": [
       "<Figure size 800x300 with 2 Axes>"
      ]
     },
     "metadata": {},
     "output_type": "display_data"
    },
    {
     "name": "stdout",
     "output_type": "stream",
     "text": [
      "weight_kg\n",
      "Skew : 0.35\n"
     ]
    },
    {
     "data": {
      "image/png": "[encoded data removed]",
      "text/plain": [
       "<Figure size 800x300 with 2 Axes>"
      ]
     },
     "metadata": {},
     "output_type": "display_data"
    },
    {
     "name": "stdout",
     "output_type": "stream",
     "text": [
      "body_fat_%\n",
      "Skew : 0.37\n"
     ]
    },
    {
     "data": {
      "image/png": "[encoded data removed]",
      "text/plain": [
       "<Figure size 800x300 with 2 Axes>"
      ]
     },
     "metadata": {},
     "output_type": "display_data"
    },
    {
     "name": "stdout",
     "output_type": "stream",
     "text": [
      "diastolic\n",
      "Skew : -0.13\n"
     ]
    },
    {
     "data": {
      "image/png": "[encoded data removed]",
      "text/plain": [
       "<Figure size 800x300 with 2 Axes>"
      ]
     },
     "metadata": {},
     "output_type": "display_data"
    },
    {
     "name": "stdout",
     "output_type": "stream",
     "text": [
      "systolic\n",
      "Skew : -0.03\n"
     ]
    },
    {
     "data": {
      "image/png": "[encoded data removed]",
      "text/plain": [
       "<Figure size 800x300 with 2 Axes>"
      ]
     },
     "metadata": {},
     "output_type": "display_data"
    },
    {
     "name": "stdout",
     "output_type": "stream",
     "text": [
      "gripForce\n",
      "Skew : 0.02\n"
     ]
    },
    {
     "data": {
      "image/png": "[encoded data removed]",
      "text/plain": [
       "<Figure size 800x300 with 2 Axes>"
      ]
     },
     "metadata": {},
     "output_type": "display_data"
    },
    {
     "name": "stdout",
     "output_type": "stream",
     "text": [
      "sit_and_bend_forward_cm\n",
      "Skew : 0.42\n"
     ]
    },
    {
     "data": {
      "image/png": "[encoded data removed]",
      "text/plain": [
       "<Figure size 800x300 with 2 Axes>"
      ]
     },
     "metadata": {},
     "output_type": "display_data"
    },
    {
     "name": "stdout",
     "output_type": "stream",
     "text": [
      "sit_ups_counts\n",
      "Skew : -0.46\n"
     ]
    },
    {
     "data": {
      "image/png": "[encoded data removed]",
      "text/plain": [
       "<Figure size 800x300 with 2 Axes>"
      ]
     },
     "metadata": {},
     "output_type": "display_data"
    },
    {
     "name": "stdout",
     "output_type": "stream",
     "text": [
      "broad_jump_cm\n",
      "Skew : -0.4\n"
     ]
    },
    {
     "data": {
      "image/png": "[encoded data removed]",
      "text/plain": [
       "<Figure size 800x300 with 2 Axes>"
      ]
     },
     "metadata": {},
     "output_type": "display_data"
    }
   ],
   "source": [
    "for col in numerical_features:\n",
    "    print(col)\n",
    "    print('Skew :', round(df_full_train[col].skew(), 2))\n",
    "    plt.figure(figsize = (8, 3))\n",
    "    plt.subplot(1, 2, 1)\n",
    "    df_full_train[col].hist(grid=False, )\n",
    "    plt.ylabel('count')\n",
    "    plt.subplot(1, 2, 2)\n",
    "    sns.boxplot(x=df_full_train[col], )\n",
    "    plt.show()"
   ]
  },
  {
   "cell_type": "raw",
   "id": "a441f169-bf3d-4cbd-86e2-1c4e02d24040",
   "metadata": {},
   "source": [
    "We observe here some columns present skewness and have outliers, we will handle them before going into the next step."
   ]
  },
  {
   "cell_type": "raw",
   "id": "23a0d7ff-5b17-43b8-89ad-1ac6c68d56e9",
   "metadata": {},
   "source": [
    "Handling skewness is important because certain models (e.g., linear regression, logistic regression, and SVM) assume that the features are normally distributed.\n",
    "For tree-based models (e.g., Random Forest, Gradient Boosting), transformations are often less necessary as these models handle non-normality well.\n",
    "\n",
    "We can define skewness magnitude to choose whether or not apply transformation:\n",
    "- |skewness| > 1 : highly skewed data, we need to apply some transformation to assume that feature are normally distributed.\n",
    "- 0.5 < |skewness| ≤ 1 : moderate skewness\n",
    "- |skewness| ≤ 0.5 : low skewness.\n",
    "\n",
    "As we have here moderate skewness for all features, let's keep them as is."
   ]
  },
  {
   "cell_type": "markdown",
   "id": "9fbb5b80-6e94-4536-83af-b47f0594e849",
   "metadata": {},
   "source": [
    "###### Outliers analysis"
   ]
  },
  {
   "cell_type": "raw",
   "id": "f3e0fdaf-844c-4552-abb8-d6fb33dc6bde",
   "metadata": {},
   "source": [
    "As shown in above plots, we have outliers for some features.\n",
    "Let's replace them with the median as median is more robust. Also it prevents to remove rows from our data."
   ]
  },
  {
   "cell_type": "code",
   "execution_count": 12,
   "id": "e033e58e-d002-4c9b-8995-e969ce4545c4",
   "metadata": {},
   "outputs": [],
   "source": [
    "for col in numerical_features:\n",
    "    # Compute Q99\n",
    "    Q99 = df_full_train[col].quantile(0.99)\n",
    "    \n",
    "    # Compute the mode\n",
    "    mode_value = df_full_train[col].mode()[0]\n",
    "    \n",
    "    # Replace outliers with the mode\n",
    "    df_full_train[col] = df_full_train[col].apply(lambda x: mode_value if x > Q99 else x)"
   ]
  },
  {
   "cell_type": "markdown",
   "id": "16d60304-281b-4c09-a98b-678263abda57",
   "metadata": {},
   "source": [
    "###### Bivariate analysis"
   ]
  },
  {
   "cell_type": "raw",
   "id": "76a2db49-668b-4221-a769-a99830e6fac0",
   "metadata": {},
   "source": [
    "Bivariate Analysis helps to understand the relationship between target variable and independent variables present in the dataset."
   ]
  },
  {
   "cell_type": "code",
   "execution_count": 13,
   "id": "b2d8b13b-0d22-46c5-9f53-f52f5cbc0c82",
   "metadata": {
    "tags": []
   },
   "outputs": [
    {
     "data": {
      "text/plain": [
       "class\n",
       "A    2662\n",
       "B    2685\n",
       "C    2699\n",
       "D    2667\n",
       "Name: age, dtype: int64"
      ]
     },
     "execution_count": 13,
     "metadata": {},
     "output_type": "execute_result"
    }
   ],
   "source": [
    "df_full_train.groupby(['class']).age.count()"
   ]
  },
  {
   "cell_type": "code",
   "execution_count": 14,
   "id": "23e4235f-4a61-4a16-90d1-668e70be3c53",
   "metadata": {
    "tags": []
   },
   "outputs": [
    {
     "data": {
      "image/png": "[encoded data removed]",
      "text/plain": [
       "<Figure size 800x300 with 2 Axes>"
      ]
     },
     "metadata": {},
     "output_type": "display_data"
    },
    {
     "data": {
      "image/png": "[encoded data removed]",
      "text/plain": [
       "<Figure size 800x300 with 2 Axes>"
      ]
     },
     "metadata": {},
     "output_type": "display_data"
    },
    {
     "data": {
      "image/png": "[encoded data removed]",
      "text/plain": [
       "<Figure size 800x300 with 2 Axes>"
      ]
     },
     "metadata": {},
     "output_type": "display_data"
    },
    {
     "data": {
      "image/png": "[encoded data removed]",
      "text/plain": [
       "<Figure size 800x300 with 2 Axes>"
      ]
     },
     "metadata": {},
     "output_type": "display_data"
    },
    {
     "data": {
      "image/png": "[encoded data removed]",
      "text/plain": [
       "<Figure size 800x300 with 2 Axes>"
      ]
     },
     "metadata": {},
     "output_type": "display_data"
    },
    {
     "data": {
      "image/png": "[encoded data removed]",
      "text/plain": [
       "<Figure size 800x300 with 2 Axes>"
      ]
     },
     "metadata": {},
     "output_type": "display_data"
    },
    {
     "data": {
      "image/png": "[encoded data removed]",
      "text/plain": [
       "<Figure size 800x300 with 2 Axes>"
      ]
     },
     "metadata": {},
     "output_type": "display_data"
    },
    {
     "data": {
      "image/png": "[encoded data removed]",
      "text/plain": [
       "<Figure size 800x300 with 2 Axes>"
      ]
     },
     "metadata": {},
     "output_type": "display_data"
    },
    {
     "data": {
      "image/png": "[encoded data removed]",
      "text/plain": [
       "<Figure size 800x300 with 2 Axes>"
      ]
     },
     "metadata": {},
     "output_type": "display_data"
    },
    {
     "data": {
      "image/png": "[encoded data removed]",
      "text/plain": [
       "<Figure size 800x300 with 2 Axes>"
      ]
     },
     "metadata": {},
     "output_type": "display_data"
    }
   ],
   "source": [
    "target_feature = 'class'\n",
    "for col in numerical_features:\n",
    "    plt.figure(figsize = (8, 3))\n",
    "    plt.subplot(1, 2, 1)\n",
    "    sns.barplot(\n",
    "        x=target_feature, \n",
    "        y=col, \n",
    "        data=df_full_train,\n",
    "        palette='viridis',\n",
    "    )\n",
    "    plt.ylabel('mean')\n",
    "    plt.subplot(1, 2, 2)\n",
    "    sns.boxplot(\n",
    "        x=target_feature,\n",
    "        y=df_full_train[col],\n",
    "        data=df_full_train,\n",
    "        palette='viridis',\n",
    "    )\n",
    "    plt.tight_layout() # adjust layout and add some margin between 2 plots\n",
    "    plt.show()"
   ]
  },
  {
   "cell_type": "raw",
   "id": "d1e4c753-ddda-4aa2-8aa5-f09f669bb264",
   "metadata": {},
   "source": [
    "We observe some patterns here,\n",
    "- age : little difference of mean age between each class\n",
    "- height_cm : no specific behaviour\n",
    "- weight_kg : little difference of mean weight between each class\n",
    "- body_fat_%: little difference of mean body_fat between each class, also class D has more body_fat_% than other class\n",
    "- diastolic : no specific behaviour\n",
    "- systolic : no specific behaviour\n",
    "- grip_force : little difference of mean grip_force between each class\n",
    "- sit_and_bend_forward_cm: little difference of mean sit_and_bend_forward_cm between each class\n",
    "- sit_ups_counts: little difference of mean sit_ups_counts between each class\n",
    "- broad_jump_cm: little difference of mean broad_jump_cm between each class\n",
    "\n"
   ]
  },
  {
   "cell_type": "markdown",
   "id": "ed58cbce-89de-4519-a7a2-30ff4aab9d88",
   "metadata": {},
   "source": [
    "###### Multivariate analysis"
   ]
  },
  {
   "cell_type": "raw",
   "id": "977b8f79-bd2b-43e6-adc5-fb9f371500e5",
   "metadata": {},
   "source": [
    "Mutlivariate analysis helps us to understand relationship between numerical features."
   ]
  },
  {
   "cell_type": "code",
   "execution_count": 15,
   "id": "10eb8bcf-b649-4ab8-9e7b-fae672e56a5e",
   "metadata": {
    "tags": []
   },
   "outputs": [
    {
     "data": {
      "text/plain": [
       "<Axes: >"
      ]
     },
     "execution_count": 15,
     "metadata": {},
     "output_type": "execute_result"
    },
    {
     "data": {
      "image/png": "[encoded data removed]",
      "text/plain": [
       "<Figure size 640x480 with 2 Axes>"
      ]
     },
     "metadata": {},
     "output_type": "display_data"
    }
   ],
   "source": [
    "sns.heatmap(df_full_train[numerical_features].corr(), cmap=\"Blues\", annot=True, annot_kws={\"fontsize\":8})"
   ]
  },
  {
   "cell_type": "raw",
   "id": "9408f027-ea3e-4bac-b2e4-fd428ff2badd",
   "metadata": {},
   "source": [
    "We observe here some corelations:\n",
    "    - height_cm and broad_jump_cm\n",
    "    - gripForce and broad_jump_cm\n",
    "    - sit_ups_counts and broad_jump_cm\n",
    "    - gripForce and height_cm"
   ]
  },
  {
   "cell_type": "markdown",
   "id": "0c6ca506-57e5-4821-b137-e43fc0e0c81a",
   "metadata": {},
   "source": [
    "##### Categorical features"
   ]
  },
  {
   "cell_type": "code",
   "execution_count": 16,
   "id": "4d0932fd-733f-4a09-a769-ca1fdc3d6b65",
   "metadata": {
    "tags": []
   },
   "outputs": [
    {
     "data": {
      "text/plain": [
       "<Axes: xlabel='gender', ylabel='count'>"
      ]
     },
     "execution_count": 16,
     "metadata": {},
     "output_type": "execute_result"
    },
    {
     "data": {
      "image/png": "[encoded data removed]",
      "text/plain": [
       "<Figure size 640x480 with 1 Axes>"
      ]
     },
     "metadata": {},
     "output_type": "display_data"
    }
   ],
   "source": [
    "sns.countplot(data = df_full_train, x = 'gender', color = 'blue')"
   ]
  },
  {
   "cell_type": "code",
   "execution_count": 17,
   "id": "0d9ae8bb-9b9d-49ee-adbf-6be9d0689a7f",
   "metadata": {
    "tags": []
   },
   "outputs": [
    {
     "data": {
      "text/plain": [
       "<Axes: xlabel='gender', ylabel='count'>"
      ]
     },
     "execution_count": 17,
     "metadata": {},
     "output_type": "execute_result"
    },
    {
     "data": {
      "image/png": "[encoded data removed]",
      "text/plain": [
       "<Figure size 640x480 with 1 Axes>"
      ]
     },
     "metadata": {},
     "output_type": "display_data"
    }
   ],
   "source": [
    "sns.countplot(data = df_full_train, x = 'gender', hue = 'class')"
   ]
  },
  {
   "cell_type": "raw",
   "id": "e9d5794e-cfc6-4962-8748-e2b614f98e5e",
   "metadata": {},
   "source": [
    "We observe here specific behaviour for class A. Female gender has high percentage for class A compared to Male gender."
   ]
  },
  {
   "cell_type": "markdown",
   "id": "f242e03e-c512-4016-9621-338f211d6b54",
   "metadata": {},
   "source": [
    "##### Target feature analysis"
   ]
  },
  {
   "cell_type": "code",
   "execution_count": 18,
   "id": "12e214a1-afc8-4d95-af61-aec1d6abe679",
   "metadata": {
    "tags": []
   },
   "outputs": [
    {
     "data": {
      "text/plain": [
       "<Axes: xlabel='class', ylabel='count'>"
      ]
     },
     "execution_count": 18,
     "metadata": {},
     "output_type": "execute_result"
    },
    {
     "data": {
      "image/png": "[encoded data removed]",
      "text/plain": [
       "<Figure size 640x480 with 1 Axes>"
      ]
     },
     "metadata": {},
     "output_type": "display_data"
    }
   ],
   "source": [
    "sns.countplot(data = df_full_train, x = 'class', color = 'blue')"
   ]
  },
  {
   "cell_type": "raw",
   "id": "ca64632f-640b-47d0-a990-62348ea9e595",
   "metadata": {},
   "source": [
    "We have balanced target feature data."
   ]
  },
  {
   "cell_type": "markdown",
   "id": "09e219ba-263b-41cc-805b-20d35178efd8",
   "metadata": {},
   "source": [
    "### Features importance"
   ]
  },
  {
   "cell_type": "raw",
   "id": "8d4fdaaa-1578-4452-962a-dc84aeaead8b",
   "metadata": {},
   "source": [
    "Define pipeline for features encoding : onehot encoding for categorical features and standard scaller for numerical features."
   ]
  },
  {
   "cell_type": "code",
   "execution_count": 19,
   "id": "239fd9ba-097c-4975-b911-b0b02c249fc6",
   "metadata": {
    "tags": []
   },
   "outputs": [],
   "source": [
    "from sklearn.pipeline import Pipeline\n",
    "from sklearn.compose import ColumnTransformer, make_column_selector\n",
    "from sklearn.preprocessing import StandardScaler, OneHotEncoder, LabelEncoder\n",
    "\n",
    "# Preprocessing for numerical data\n",
    "numerical_transformer = Pipeline(steps=[\n",
    "    ('scaler', StandardScaler())\n",
    "])\n",
    "\n",
    "# Preprocessing for categorical data\n",
    "categorical_transformer = Pipeline(steps=[\n",
    "    ('onehot', OneHotEncoder(drop = 'first', handle_unknown='ignore'))\n",
    "])\n",
    "\n",
    "# Combine preprocessors in a ColumnTransformer\n",
    "preprocessor = ColumnTransformer(\n",
    "    transformers=[\n",
    "        ('num', numerical_transformer, make_column_selector(dtype_include=['float64'])),\n",
    "        ('cat', categorical_transformer, make_column_selector(dtype_include=['object']))\n",
    "    ])\n",
    "\n",
    "pipeline = Pipeline([\n",
    "    ('preprocessor',  preprocessor)\n",
    "])"
   ]
  },
  {
   "cell_type": "raw",
   "id": "2aa33eac-7986-4618-b323-ceaf5dca49d2",
   "metadata": {
    "tags": []
   },
   "source": [
    "We use mutual information to get feature importance. Mutual Information (measures dependency between feature and target)"
   ]
  },
  {
   "cell_type": "code",
   "execution_count": 20,
   "id": "4b44a012-a4fe-419e-8632-2973835e3b2a",
   "metadata": {
    "tags": []
   },
   "outputs": [
    {
     "data": {
      "text/html": [
       "<div>\n",
       "<style scoped>\n",
       "    .dataframe tbody tr th:only-of-type {\n",
       "        vertical-align: middle;\n",
       "    }\n",
       "\n",
       "    .dataframe tbody tr th {\n",
       "        vertical-align: top;\n",
       "    }\n",
       "\n",
       "    .dataframe thead th {\n",
       "        text-align: right;\n",
       "    }\n",
       "</style>\n",
       "<table border=\"1\" class=\"dataframe\">\n",
       "  <thead>\n",
       "    <tr style=\"text-align: right;\">\n",
       "      <th></th>\n",
       "      <th>age</th>\n",
       "      <th>height_cm</th>\n",
       "      <th>weight_kg</th>\n",
       "      <th>body_fat_%</th>\n",
       "      <th>diastolic</th>\n",
       "      <th>systolic</th>\n",
       "      <th>gripForce</th>\n",
       "      <th>sit_and_bend_forward_cm</th>\n",
       "      <th>sit_ups_counts</th>\n",
       "      <th>broad_jump_cm</th>\n",
       "      <th>gender_M</th>\n",
       "    </tr>\n",
       "  </thead>\n",
       "  <tbody>\n",
       "    <tr>\n",
       "      <th>0</th>\n",
       "      <td>-0.722044</td>\n",
       "      <td>0.664130</td>\n",
       "      <td>1.762974</td>\n",
       "      <td>0.155924</td>\n",
       "      <td>1.554519</td>\n",
       "      <td>1.919290</td>\n",
       "      <td>0.309640</td>\n",
       "      <td>0.927441</td>\n",
       "      <td>0.752486</td>\n",
       "      <td>-0.011675</td>\n",
       "      <td>1.0</td>\n",
       "    </tr>\n",
       "    <tr>\n",
       "      <th>1</th>\n",
       "      <td>-1.088373</td>\n",
       "      <td>-0.927589</td>\n",
       "      <td>-1.881600</td>\n",
       "      <td>0.055000</td>\n",
       "      <td>0.035234</td>\n",
       "      <td>-0.351336</td>\n",
       "      <td>-1.249508</td>\n",
       "      <td>0.614695</td>\n",
       "      <td>-0.322556</td>\n",
       "      <td>-1.190847</td>\n",
       "      <td>0.0</td>\n",
       "    </tr>\n",
       "    <tr>\n",
       "      <th>2</th>\n",
       "      <td>0.889804</td>\n",
       "      <td>-2.239845</td>\n",
       "      <td>-0.483924</td>\n",
       "      <td>2.549281</td>\n",
       "      <td>1.554519</td>\n",
       "      <td>-0.076109</td>\n",
       "      <td>-1.356034</td>\n",
       "      <td>0.514616</td>\n",
       "      <td>-2.257632</td>\n",
       "      <td>-1.062676</td>\n",
       "      <td>0.0</td>\n",
       "    </tr>\n",
       "    <tr>\n",
       "      <th>3</th>\n",
       "      <td>-0.062652</td>\n",
       "      <td>1.368860</td>\n",
       "      <td>1.241056</td>\n",
       "      <td>-1.026336</td>\n",
       "      <td>0.130189</td>\n",
       "      <td>0.061505</td>\n",
       "      <td>1.403949</td>\n",
       "      <td>-1.036605</td>\n",
       "      <td>0.465808</td>\n",
       "      <td>0.680448</td>\n",
       "      <td>1.0</td>\n",
       "    </tr>\n",
       "    <tr>\n",
       "      <th>4</th>\n",
       "      <td>-0.502247</td>\n",
       "      <td>0.032303</td>\n",
       "      <td>0.227299</td>\n",
       "      <td>-0.161268</td>\n",
       "      <td>1.934340</td>\n",
       "      <td>0.474346</td>\n",
       "      <td>0.677637</td>\n",
       "      <td>0.727283</td>\n",
       "      <td>1.397511</td>\n",
       "      <td>1.346937</td>\n",
       "      <td>1.0</td>\n",
       "    </tr>\n",
       "  </tbody>\n",
       "</table>\n",
       "</div>"
      ],
      "text/plain": [
       "        age  height_cm  weight_kg  body_fat_%  diastolic  systolic  gripForce  \\\n",
       "0 -0.722044   0.664130   1.762974    0.155924   1.554519  1.919290   0.309640   \n",
       "1 -1.088373  -0.927589  -1.881600    0.055000   0.035234 -0.351336  -1.249508   \n",
       "2  0.889804  -2.239845  -0.483924    2.549281   1.554519 -0.076109  -1.356034   \n",
       "3 -0.062652   1.368860   1.241056   -1.026336   0.130189  0.061505   1.403949   \n",
       "4 -0.502247   0.032303   0.227299   -0.161268   1.934340  0.474346   0.677637   \n",
       "\n",
       "   sit_and_bend_forward_cm  sit_ups_counts  broad_jump_cm  gender_M  \n",
       "0                 0.927441        0.752486      -0.011675       1.0  \n",
       "1                 0.614695       -0.322556      -1.190847       0.0  \n",
       "2                 0.514616       -2.257632      -1.062676       0.0  \n",
       "3                -1.036605        0.465808       0.680448       1.0  \n",
       "4                 0.727283        1.397511       1.346937       1.0  "
      ]
     },
     "execution_count": 20,
     "metadata": {},
     "output_type": "execute_result"
    }
   ],
   "source": [
    "from sklearn.feature_selection import mutual_info_classif\n",
    "\n",
    "X_full_train = df_full_train.drop(columns = ['class'])\n",
    "y_full_train = df_full_train['class']\n",
    "\n",
    "pipeline.fit(X_full_train, y_full_train)\n",
    "\n",
    "X_full_train_transformed = pipeline.named_steps['preprocessor'].transform(X_full_train)\n",
    "numerical_transformed_columns = pipeline.named_steps['preprocessor'].transformers_[0][2]\n",
    "categorical_transformed_columns = pipeline.named_steps['preprocessor'].transformers_[1][1].get_feature_names_out().tolist()\n",
    "all_columns = [numerical_transformed_columns + categorical_transformed_columns]\n",
    "all_columns = all_columns[0]\n",
    "\n",
    "df_X_full_train_transformed = pd.DataFrame(\n",
    "    X_full_train_transformed,\n",
    "    columns = all_columns\n",
    ")\n",
    "\n",
    "df_X_full_train_transformed.head()"
   ]
  },
  {
   "cell_type": "code",
   "execution_count": 21,
   "id": "ac161698-acf0-4f03-88b9-eed7d9735dda",
   "metadata": {
    "tags": []
   },
   "outputs": [
    {
     "data": {
      "image/png": "[encoded data removed]",
      "text/plain": [
       "<Figure size 600x400 with 1 Axes>"
      ]
     },
     "metadata": {},
     "output_type": "display_data"
    }
   ],
   "source": [
    "# Compute mutual information\n",
    "mi_scores = mutual_info_classif(df_X_full_train_transformed, y_full_train, discrete_features=False, random_state=RANDOM_STATE)  \n",
    ", \n",
    "# Create DataFrame for better visualization\n",
    "mi_df = pd.DataFrame({'feature': df_X_full_train_transformed.columns, 'mi_score': mi_scores})\n",
    "mi_df = mi_df.sort_values(by=\"mi_score\", ascending=False)\n",
    "\n",
    "# Plot\n",
    "plt.figure(figsize=(6, 4))\n",
    "plt.barh(mi_df['feature'], mi_df['mi_score'])\n",
    "plt.xlabel(\"Mutual Information Score\")\n",
    "plt.ylabel(\"Feature\")\n",
    "plt.title(\"Feature Importance (Mutual Information)\")\n",
    "plt.gca().invert_yaxis()\n",
    "plt.show()\n"
   ]
  },
  {
   "cell_type": "code",
   "execution_count": 22,
   "id": "c3d416a5-b935-4690-8d7d-53d8e3000914",
   "metadata": {
    "tags": []
   },
   "outputs": [
    {
     "data": {
      "text/plain": [
       "['sit_and_bend_forward_cm',\n",
       " 'sit_ups_counts',\n",
       " 'body_fat_%',\n",
       " 'broad_jump_cm',\n",
       " 'gripForce',\n",
       " 'weight_kg',\n",
       " 'height_cm',\n",
       " 'age',\n",
       " 'systolic',\n",
       " 'diastolic',\n",
       " 'gender_M']"
      ]
     },
     "execution_count": 22,
     "metadata": {},
     "output_type": "execute_result"
    }
   ],
   "source": [
    "mi_df.feature.tolist()"
   ]
  },
  {
   "cell_type": "code",
   "execution_count": 23,
   "id": "280d41c7-567b-43da-b294-5c33ae7ec3b9",
   "metadata": {
    "tags": []
   },
   "outputs": [
    {
     "data": {
      "text/plain": [
       "7     sit_and_bend_forward_cm\n",
       "8              sit_ups_counts\n",
       "3                  body_fat_%\n",
       "9               broad_jump_cm\n",
       "6                   gripForce\n",
       "2                   weight_kg\n",
       "1                   height_cm\n",
       "0                         age\n",
       "5                    systolic\n",
       "4                   diastolic\n",
       "10                   gender_M\n",
       "Name: feature, dtype: object"
      ]
     },
     "execution_count": 23,
     "metadata": {},
     "output_type": "execute_result"
    }
   ],
   "source": [
    "mi_df.feature"
   ]
  },
  {
   "cell_type": "raw",
   "id": "56a86b44-e2c3-4e69-a5c5-c5ae5f859570",
   "metadata": {},
   "source": [
    "Top important features are `sit_and_bend_forward_cm`, `sit_ups_counts`, `body_fat_%` and `broad_jump_cm`."
   ]
  },
  {
   "cell_type": "markdown",
   "id": "46986428-b6a2-4b2c-91c3-dfc41b7798fb",
   "metadata": {},
   "source": [
    "### Building baseline model"
   ]
  },
  {
   "cell_type": "markdown",
   "id": "487a454b-3ba8-4d72-bb38-8c66d796d666",
   "metadata": {},
   "source": [
    "Many machine learning algorithms can be used to train a multiclass classifier but not all as standard algorithms such as logistic regression, support vector machines (SVM) are designed only for binary classification tasks. \n",
    "\n",
    "However, one can use many strategies to leverage these traditional multiclass classification algorithms. \n",
    "\n",
    "The algorithms used for multi-class classification can be categorized into the following categories primarily.\n",
    "\n",
    "- Binary Transformation\n",
    "- Native Multi-Class Classifier\n",
    "- Hierarchical Classification\n",
    "\n",
    "For more details, one can read this article [How to Solve a Multi Class Classification Problem with Python?](https://www.projectpro.io/article/multi-class-classification-python-example/547)\n",
    "\n",
    "In our case, we focus on Native Multi-Class Classifier methods."
   ]
  },
  {
   "cell_type": "code",
   "execution_count": 24,
   "id": "d1ab9c82-0892-43fb-9271-25b8df11abce",
   "metadata": {
    "tags": []
   },
   "outputs": [],
   "source": [
    "from sklearn.metrics import f1_score, classification_report"
   ]
  },
  {
   "cell_type": "raw",
   "id": "086e9aa6-9dbd-45a5-9e42-219d01c35da0",
   "metadata": {},
   "source": [
    "For baseline model, let's use all feature in the dataset."
   ]
  },
  {
   "cell_type": "raw",
   "id": "75158922-1149-4f72-9666-4d44dc0fe5e7",
   "metadata": {},
   "source": [
    "Let's encode our target variable using labelencoder"
   ]
  },
  {
   "cell_type": "code",
   "execution_count": 25,
   "id": "04afe3a9-aaf1-473f-915c-f153fd0c6d7b",
   "metadata": {
    "tags": []
   },
   "outputs": [],
   "source": [
    "labelencoder = LabelEncoder()\n",
    "# fit and transform\n",
    "df_full_train['class'] = labelencoder.fit_transform(df_full_train['class'])"
   ]
  },
  {
   "cell_type": "code",
   "execution_count": 26,
   "id": "97ee9fb3-f7c1-4ff5-9d7d-e84f5c224a50",
   "metadata": {
    "tags": []
   },
   "outputs": [
    {
     "data": {
      "text/html": [
       "<div>\n",
       "<style scoped>\n",
       "    .dataframe tbody tr th:only-of-type {\n",
       "        vertical-align: middle;\n",
       "    }\n",
       "\n",
       "    .dataframe tbody tr th {\n",
       "        vertical-align: top;\n",
       "    }\n",
       "\n",
       "    .dataframe thead th {\n",
       "        text-align: right;\n",
       "    }\n",
       "</style>\n",
       "<table border=\"1\" class=\"dataframe\">\n",
       "  <thead>\n",
       "    <tr style=\"text-align: right;\">\n",
       "      <th></th>\n",
       "      <th>age</th>\n",
       "      <th>gender</th>\n",
       "      <th>height_cm</th>\n",
       "      <th>weight_kg</th>\n",
       "      <th>body_fat_%</th>\n",
       "      <th>diastolic</th>\n",
       "      <th>systolic</th>\n",
       "      <th>gripForce</th>\n",
       "      <th>sit_and_bend_forward_cm</th>\n",
       "      <th>sit_ups_counts</th>\n",
       "      <th>broad_jump_cm</th>\n",
       "      <th>class</th>\n",
       "    </tr>\n",
       "  </thead>\n",
       "  <tbody>\n",
       "    <tr>\n",
       "      <th>0</th>\n",
       "      <td>27.0</td>\n",
       "      <td>M</td>\n",
       "      <td>173.8</td>\n",
       "      <td>87.00</td>\n",
       "      <td>24.1</td>\n",
       "      <td>95.0</td>\n",
       "      <td>158.0</td>\n",
       "      <td>39.9</td>\n",
       "      <td>22.5</td>\n",
       "      <td>50.0</td>\n",
       "      <td>189.0</td>\n",
       "      <td>3</td>\n",
       "    </tr>\n",
       "    <tr>\n",
       "      <th>1</th>\n",
       "      <td>22.0</td>\n",
       "      <td>F</td>\n",
       "      <td>160.7</td>\n",
       "      <td>45.80</td>\n",
       "      <td>23.4</td>\n",
       "      <td>79.0</td>\n",
       "      <td>125.0</td>\n",
       "      <td>23.8</td>\n",
       "      <td>20.0</td>\n",
       "      <td>35.0</td>\n",
       "      <td>143.0</td>\n",
       "      <td>1</td>\n",
       "    </tr>\n",
       "    <tr>\n",
       "      <th>2</th>\n",
       "      <td>49.0</td>\n",
       "      <td>F</td>\n",
       "      <td>149.9</td>\n",
       "      <td>61.60</td>\n",
       "      <td>40.7</td>\n",
       "      <td>95.0</td>\n",
       "      <td>129.0</td>\n",
       "      <td>22.7</td>\n",
       "      <td>19.2</td>\n",
       "      <td>8.0</td>\n",
       "      <td>148.0</td>\n",
       "      <td>3</td>\n",
       "    </tr>\n",
       "    <tr>\n",
       "      <th>3</th>\n",
       "      <td>36.0</td>\n",
       "      <td>M</td>\n",
       "      <td>179.6</td>\n",
       "      <td>81.10</td>\n",
       "      <td>15.9</td>\n",
       "      <td>80.0</td>\n",
       "      <td>131.0</td>\n",
       "      <td>51.2</td>\n",
       "      <td>6.8</td>\n",
       "      <td>46.0</td>\n",
       "      <td>216.0</td>\n",
       "      <td>2</td>\n",
       "    </tr>\n",
       "    <tr>\n",
       "      <th>4</th>\n",
       "      <td>30.0</td>\n",
       "      <td>M</td>\n",
       "      <td>168.6</td>\n",
       "      <td>69.64</td>\n",
       "      <td>21.9</td>\n",
       "      <td>99.0</td>\n",
       "      <td>137.0</td>\n",
       "      <td>43.7</td>\n",
       "      <td>20.9</td>\n",
       "      <td>59.0</td>\n",
       "      <td>242.0</td>\n",
       "      <td>0</td>\n",
       "    </tr>\n",
       "  </tbody>\n",
       "</table>\n",
       "</div>"
      ],
      "text/plain": [
       "    age gender  height_cm  weight_kg  body_fat_%  diastolic  systolic  \\\n",
       "0  27.0      M      173.8      87.00        24.1       95.0     158.0   \n",
       "1  22.0      F      160.7      45.80        23.4       79.0     125.0   \n",
       "2  49.0      F      149.9      61.60        40.7       95.0     129.0   \n",
       "3  36.0      M      179.6      81.10        15.9       80.0     131.0   \n",
       "4  30.0      M      168.6      69.64        21.9       99.0     137.0   \n",
       "\n",
       "   gripForce  sit_and_bend_forward_cm  sit_ups_counts  broad_jump_cm  class  \n",
       "0       39.9                     22.5            50.0          189.0      3  \n",
       "1       23.8                     20.0            35.0          143.0      1  \n",
       "2       22.7                     19.2             8.0          148.0      3  \n",
       "3       51.2                      6.8            46.0          216.0      2  \n",
       "4       43.7                     20.9            59.0          242.0      0  "
      ]
     },
     "execution_count": 26,
     "metadata": {},
     "output_type": "execute_result"
    }
   ],
   "source": [
    "df_full_train.head()"
   ]
  },
  {
   "cell_type": "code",
   "execution_count": 27,
   "id": "934c4814-2245-44d7-b4a7-32a3891c553e",
   "metadata": {
    "tags": []
   },
   "outputs": [],
   "source": [
    "X_full_train = df_full_train.drop(columns = ['class'])\n",
    "y_full_train = df_full_train['class']\n",
    "\n",
    "X_train, X_validation, y_train, y_validation = train_test_split(X_full_train, y_full_train, train_size=.8)"
   ]
  },
  {
   "cell_type": "code",
   "execution_count": 28,
   "id": "5d292382-d376-476a-98e1-dd7229f61f2a",
   "metadata": {
    "tags": []
   },
   "outputs": [
    {
     "data": {
      "text/plain": [
       "((8570, 11), (2143, 11), (8570,), (2143,))"
      ]
     },
     "execution_count": 28,
     "metadata": {},
     "output_type": "execute_result"
    }
   ],
   "source": [
    "X_train.shape, X_validation.shape, y_train.shape, y_validation.shape"
   ]
  },
  {
   "cell_type": "code",
   "execution_count": 29,
   "id": "818a7c76-b2cf-4ebd-bcd2-bfeb1701b81e",
   "metadata": {},
   "outputs": [],
   "source": [
    "X_train_transformed = pipeline.named_steps['preprocessor'].transform(X_train)\n",
    "X_validation_transformed = pipeline.named_steps['preprocessor'].transform(X_validation)"
   ]
  },
  {
   "cell_type": "raw",
   "id": "69f5daae-c494-4e74-b131-8dc29c44a22a",
   "metadata": {},
   "source": [
    "For model evaluation, we use F1 score.\n",
    "In multiclass classification F1 score can be used to provide a balanced metric for evaluating model performance."
   ]
  },
  {
   "cell_type": "code",
   "execution_count": 30,
   "id": "f5b1a1b9-3a58-4918-b825-886f765dcef7",
   "metadata": {
    "tags": []
   },
   "outputs": [
    {
     "name": "stdout",
     "output_type": "stream",
     "text": [
      "Random forest classifier\n",
      "d = 5, n = 5 ==> f1 score = 0.5866083660553957\n",
      "d = 5, n = 10 ==> f1 score = 0.5890773787303845\n",
      "d = 5, n = 15 ==> f1 score = 0.5985521323096824\n",
      "d = 5, n = 20 ==> f1 score = 0.594151674466988\n",
      "d = 5, n = 50 ==> f1 score = 0.6145148684398201\n",
      "d = 5, n = 100 ==> f1 score = 0.6087865305477864\n",
      "d = 5, n = 200 ==> f1 score = 0.6025314788124169\n",
      "d = 10, n = 5 ==> f1 score = 0.6465616786694814\n",
      "d = 10, n = 10 ==> f1 score = 0.6612165243424343\n",
      "d = 10, n = 15 ==> f1 score = 0.672748872692006\n",
      "d = 10, n = 20 ==> f1 score = 0.6689625733543638\n",
      "d = 10, n = 50 ==> f1 score = 0.6788024126236845\n",
      "d = 10, n = 100 ==> f1 score = 0.679147069380348\n",
      "d = 10, n = 200 ==> f1 score = 0.6756698168166426\n",
      "d = 15, n = 5 ==> f1 score = 0.6419703693816561\n",
      "d = 15, n = 10 ==> f1 score = 0.6650075369409586\n",
      "d = 15, n = 15 ==> f1 score = 0.6758262888623073\n",
      "d = 15, n = 20 ==> f1 score = 0.6775451511304825\n",
      "d = 15, n = 50 ==> f1 score = 0.694822500217517\n",
      "d = 15, n = 100 ==> f1 score = 0.6975104339903107\n",
      "d = 15, n = 200 ==> f1 score = 0.6954261190140127\n",
      "d = 20, n = 5 ==> f1 score = 0.6499708975127032\n",
      "d = 20, n = 10 ==> f1 score = 0.6621911717887389\n",
      "d = 20, n = 15 ==> f1 score = 0.6647501030663393\n",
      "d = 20, n = 20 ==> f1 score = 0.6732037702072459\n",
      "d = 20, n = 50 ==> f1 score = 0.6882917073691697\n",
      "d = 20, n = 100 ==> f1 score = 0.6938811981280844\n",
      "d = 20, n = 200 ==> f1 score = 0.7046729881107965\n",
      "d = 50, n = 5 ==> f1 score = 0.636293567804209\n",
      "d = 50, n = 10 ==> f1 score = 0.6625596917608234\n",
      "d = 50, n = 15 ==> f1 score = 0.6641863577994986\n",
      "d = 50, n = 20 ==> f1 score = 0.6799053085681667\n",
      "d = 50, n = 50 ==> f1 score = 0.688982648400867\n",
      "d = 50, n = 100 ==> f1 score = 0.6934918587105546\n",
      "d = 50, n = 200 ==> f1 score = 0.6952535432229933\n",
      "d = None, n = 5 ==> f1 score = 0.636293567804209\n",
      "d = None, n = 10 ==> f1 score = 0.6625596917608234\n",
      "d = None, n = 15 ==> f1 score = 0.6641863577994986\n",
      "d = None, n = 20 ==> f1 score = 0.6799053085681667\n",
      "d = None, n = 50 ==> f1 score = 0.688982648400867\n",
      "d = None, n = 100 ==> f1 score = 0.6934918587105546\n",
      "d = None, n = 200 ==> f1 score = 0.6952535432229933\n",
      "************************\n",
      "Decision tree classifier\n",
      "d = 5, l = 1 ==> f1 score = 0.5729342953970082\n",
      "d = 5, l = 3 ==> f1 score = 0.5729342953970082\n",
      "d = 5, l = 5 ==> f1 score = 0.572466747943635\n",
      "d = 5, l = 10 ==> f1 score = 0.5734014048550585\n",
      "d = 5, l = 15 ==> f1 score = 0.5734014048550585\n",
      "d = 5, l = 20 ==> f1 score = 0.571185674335294\n",
      "d = 5, l = 30 ==> f1 score = 0.5704670066504113\n",
      "d = 5, l = 50 ==> f1 score = 0.5708780881002712\n",
      "d = 5, l = 100 ==> f1 score = 0.5666814963871923\n",
      "d = 10, l = 1 ==> f1 score = 0.6463767955855058\n",
      "d = 10, l = 3 ==> f1 score = 0.6541676083539144\n",
      "d = 10, l = 5 ==> f1 score = 0.6490645906923155\n",
      "d = 10, l = 10 ==> f1 score = 0.6498758517103677\n",
      "d = 10, l = 15 ==> f1 score = 0.6477201177799342\n",
      "d = 10, l = 20 ==> f1 score = 0.6531500393392562\n",
      "d = 10, l = 30 ==> f1 score = 0.6407547866309083\n",
      "d = 10, l = 50 ==> f1 score = 0.6313962467629456\n",
      "d = 10, l = 100 ==> f1 score = 0.6126679165061543\n",
      "d = 15, l = 1 ==> f1 score = 0.6318993618628574\n",
      "d = 15, l = 3 ==> f1 score = 0.6392476348874114\n",
      "d = 15, l = 5 ==> f1 score = 0.6449474220053247\n",
      "d = 15, l = 10 ==> f1 score = 0.6474586395717671\n",
      "d = 15, l = 15 ==> f1 score = 0.6489009640658603\n",
      "d = 15, l = 20 ==> f1 score = 0.653709197978716\n",
      "d = 15, l = 30 ==> f1 score = 0.6503556657048619\n",
      "d = 15, l = 50 ==> f1 score = 0.6295046066248954\n",
      "d = 15, l = 100 ==> f1 score = 0.6103619821739861\n",
      "d = 20, l = 1 ==> f1 score = 0.6168492995927332\n",
      "d = 20, l = 3 ==> f1 score = 0.6386076644665502\n",
      "d = 20, l = 5 ==> f1 score = 0.6400436033030974\n",
      "d = 20, l = 10 ==> f1 score = 0.6511500501329439\n",
      "d = 20, l = 15 ==> f1 score = 0.6497614868143917\n",
      "d = 20, l = 20 ==> f1 score = 0.6522633802079205\n",
      "d = 20, l = 30 ==> f1 score = 0.6503556657048619\n",
      "d = 20, l = 50 ==> f1 score = 0.6295046066248954\n",
      "d = 20, l = 100 ==> f1 score = 0.6103619821739861\n",
      "d = 50, l = 1 ==> f1 score = 0.6132964465602476\n",
      "d = 50, l = 3 ==> f1 score = 0.6327272314569397\n",
      "d = 50, l = 5 ==> f1 score = 0.6416187486697698\n",
      "d = 50, l = 10 ==> f1 score = 0.6511500501329439\n",
      "d = 50, l = 15 ==> f1 score = 0.6497614868143917\n",
      "d = 50, l = 20 ==> f1 score = 0.6522633802079205\n",
      "d = 50, l = 30 ==> f1 score = 0.6503556657048619\n",
      "d = 50, l = 50 ==> f1 score = 0.6295046066248954\n",
      "d = 50, l = 100 ==> f1 score = 0.6103619821739861\n",
      "d = None, l = 1 ==> f1 score = 0.6132964465602476\n",
      "d = None, l = 3 ==> f1 score = 0.6327272314569397\n",
      "d = None, l = 5 ==> f1 score = 0.6416187486697698\n",
      "d = None, l = 10 ==> f1 score = 0.6511500501329439\n",
      "d = None, l = 15 ==> f1 score = 0.6497614868143917\n",
      "d = None, l = 20 ==> f1 score = 0.6522633802079205\n",
      "d = None, l = 30 ==> f1 score = 0.6503556657048619\n",
      "d = None, l = 50 ==> f1 score = 0.6295046066248954\n",
      "d = None, l = 100 ==> f1 score = 0.6103619821739861\n",
      "************************\n",
      "XGBoost classifier\n",
      "e = 0.001, n = 5, d = 1 ==> f1 score = 0.4007787057903701\n",
      "e = 0.001, n = 5, d = 5 ==> f1 score = 0.629367008179952\n",
      "e = 0.001, n = 5, d = 10 ==> f1 score = 0.6645196416665148\n",
      "e = 0.001, n = 5, d = 20 ==> f1 score = 0.6545308392089264\n",
      "e = 0.001, n = 5, d = 50 ==> f1 score = 0.6544058515277804\n",
      "e = 0.001, n = 5, d = 100 ==> f1 score = 0.6544058515277804\n",
      "e = 0.001, n = 10, d = 1 ==> f1 score = 0.42966248951964275\n",
      "e = 0.001, n = 10, d = 5 ==> f1 score = 0.629367008179952\n",
      "e = 0.001, n = 10, d = 10 ==> f1 score = 0.6650677789767577\n",
      "e = 0.001, n = 10, d = 20 ==> f1 score = 0.6553887029026194\n",
      "e = 0.001, n = 10, d = 50 ==> f1 score = 0.6549215806483573\n",
      "e = 0.001, n = 10, d = 100 ==> f1 score = 0.6549215806483573\n",
      "e = 0.001, n = 15, d = 1 ==> f1 score = 0.42966248951964275\n",
      "e = 0.001, n = 15, d = 5 ==> f1 score = 0.6334635399313806\n",
      "e = 0.001, n = 15, d = 10 ==> f1 score = 0.6657067388964654\n",
      "e = 0.001, n = 15, d = 20 ==> f1 score = 0.6549364478665829\n",
      "e = 0.001, n = 15, d = 50 ==> f1 score = 0.6553860884134044\n",
      "e = 0.001, n = 15, d = 100 ==> f1 score = 0.6553860884134044\n",
      "e = 0.001, n = 20, d = 1 ==> f1 score = 0.41703752066616334\n",
      "e = 0.001, n = 20, d = 5 ==> f1 score = 0.6317046786480417\n",
      "e = 0.001, n = 20, d = 10 ==> f1 score = 0.664593829305682\n",
      "e = 0.001, n = 20, d = 20 ==> f1 score = 0.6596022596750221\n",
      "e = 0.001, n = 20, d = 50 ==> f1 score = 0.6586504453030058\n",
      "e = 0.001, n = 20, d = 100 ==> f1 score = 0.6586504453030058\n",
      "e = 0.001, n = 50, d = 1 ==> f1 score = 0.41703752066616334\n",
      "e = 0.001, n = 50, d = 5 ==> f1 score = 0.633127315679966\n",
      "e = 0.001, n = 50, d = 10 ==> f1 score = 0.6744089217391709\n",
      "e = 0.001, n = 50, d = 20 ==> f1 score = 0.6603881674789842\n",
      "e = 0.001, n = 50, d = 50 ==> f1 score = 0.6569938965597051\n",
      "e = 0.001, n = 50, d = 100 ==> f1 score = 0.6569938965597051\n",
      "e = 0.001, n = 100, d = 1 ==> f1 score = 0.41703752066616334\n",
      "e = 0.001, n = 100, d = 5 ==> f1 score = 0.6338303234735683\n",
      "e = 0.001, n = 100, d = 10 ==> f1 score = 0.6723789315342744\n",
      "e = 0.001, n = 100, d = 20 ==> f1 score = 0.6606102757558959\n",
      "e = 0.001, n = 100, d = 50 ==> f1 score = 0.6614637654800034\n",
      "e = 0.001, n = 100, d = 100 ==> f1 score = 0.6614637654800034\n",
      "e = 0.001, n = 200, d = 1 ==> f1 score = 0.413106541168821\n",
      "e = 0.001, n = 200, d = 5 ==> f1 score = 0.6323522153185774\n",
      "e = 0.001, n = 200, d = 10 ==> f1 score = 0.6758973420120813\n",
      "e = 0.001, n = 200, d = 20 ==> f1 score = 0.6676273682927666\n",
      "e = 0.001, n = 200, d = 50 ==> f1 score = 0.6660666599283523\n",
      "e = 0.001, n = 200, d = 100 ==> f1 score = 0.6660666599283523\n",
      "e = 0.01, n = 5, d = 1 ==> f1 score = 0.41703752066616334\n",
      "e = 0.01, n = 5, d = 5 ==> f1 score = 0.6298544496469487\n",
      "e = 0.01, n = 5, d = 10 ==> f1 score = 0.6765957214447919\n",
      "e = 0.01, n = 5, d = 20 ==> f1 score = 0.6628449991340802\n",
      "e = 0.01, n = 5, d = 50 ==> f1 score = 0.6619007778428959\n",
      "e = 0.01, n = 5, d = 100 ==> f1 score = 0.6619007778428959\n",
      "e = 0.01, n = 10, d = 1 ==> f1 score = 0.41703752066616334\n",
      "e = 0.01, n = 10, d = 5 ==> f1 score = 0.6343217999096632\n",
      "e = 0.01, n = 10, d = 10 ==> f1 score = 0.6717946171527645\n",
      "e = 0.01, n = 10, d = 20 ==> f1 score = 0.6589612561623182\n",
      "e = 0.01, n = 10, d = 50 ==> f1 score = 0.658442662724901\n",
      "e = 0.01, n = 10, d = 100 ==> f1 score = 0.658442662724901\n",
      "e = 0.01, n = 15, d = 1 ==> f1 score = 0.413106541168821\n",
      "e = 0.01, n = 15, d = 5 ==> f1 score = 0.6348741641498616\n",
      "e = 0.01, n = 15, d = 10 ==> f1 score = 0.6710760939650471\n",
      "e = 0.01, n = 15, d = 20 ==> f1 score = 0.6650745814486868\n",
      "e = 0.01, n = 15, d = 50 ==> f1 score = 0.6646613106466628\n",
      "e = 0.01, n = 15, d = 100 ==> f1 score = 0.6646613106466628\n",
      "e = 0.01, n = 20, d = 1 ==> f1 score = 0.413106541168821\n",
      "e = 0.01, n = 20, d = 5 ==> f1 score = 0.6351277716506806\n",
      "e = 0.01, n = 20, d = 10 ==> f1 score = 0.6754829069768534\n",
      "e = 0.01, n = 20, d = 20 ==> f1 score = 0.6653921063396804\n",
      "e = 0.01, n = 20, d = 50 ==> f1 score = 0.6648709938175172\n",
      "e = 0.01, n = 20, d = 100 ==> f1 score = 0.6648709938175172\n",
      "e = 0.01, n = 50, d = 1 ==> f1 score = 0.419664719616173\n",
      "e = 0.01, n = 50, d = 5 ==> f1 score = 0.622949474192529\n",
      "e = 0.01, n = 50, d = 10 ==> f1 score = 0.6887754301148719\n",
      "e = 0.01, n = 50, d = 20 ==> f1 score = 0.6788716359890821\n",
      "e = 0.01, n = 50, d = 50 ==> f1 score = 0.6788740620716636\n",
      "e = 0.01, n = 50, d = 100 ==> f1 score = 0.6788740620716636\n",
      "e = 0.01, n = 100, d = 1 ==> f1 score = 0.42549660517461635\n",
      "e = 0.01, n = 100, d = 5 ==> f1 score = 0.6383410169085177\n",
      "e = 0.01, n = 100, d = 10 ==> f1 score = 0.6940932014551463\n",
      "e = 0.01, n = 100, d = 20 ==> f1 score = 0.6925974784239233\n",
      "e = 0.01, n = 100, d = 50 ==> f1 score = 0.687238829201082\n",
      "e = 0.01, n = 100, d = 100 ==> f1 score = 0.687238829201082\n",
      "e = 0.01, n = 200, d = 1 ==> f1 score = 0.45538652796241463\n",
      "e = 0.01, n = 200, d = 5 ==> f1 score = 0.6531852610024177\n",
      "e = 0.01, n = 200, d = 10 ==> f1 score = 0.7023348690370902\n",
      "e = 0.01, n = 200, d = 20 ==> f1 score = 0.7082660744551753\n",
      "e = 0.01, n = 200, d = 50 ==> f1 score = 0.7067806481552447\n",
      "e = 0.01, n = 200, d = 100 ==> f1 score = 0.7067806481552447\n",
      "e = 0.1, n = 5, d = 1 ==> f1 score = 0.419664719616173\n",
      "e = 0.1, n = 5, d = 5 ==> f1 score = 0.6215127743622921\n",
      "e = 0.1, n = 5, d = 10 ==> f1 score = 0.6883567060098972\n",
      "e = 0.1, n = 5, d = 20 ==> f1 score = 0.6759830746721175\n",
      "e = 0.1, n = 5, d = 50 ==> f1 score = 0.6742470716879398\n",
      "e = 0.1, n = 5, d = 100 ==> f1 score = 0.6742470716879398\n",
      "e = 0.1, n = 10, d = 1 ==> f1 score = 0.42549660517461635\n",
      "e = 0.1, n = 10, d = 5 ==> f1 score = 0.6342016403273094\n",
      "e = 0.1, n = 10, d = 10 ==> f1 score = 0.6884665648129606\n",
      "e = 0.1, n = 10, d = 20 ==> f1 score = 0.6880170350445105\n",
      "e = 0.1, n = 10, d = 50 ==> f1 score = 0.6894802022152778\n",
      "e = 0.1, n = 10, d = 100 ==> f1 score = 0.6894802022152778\n",
      "e = 0.1, n = 15, d = 1 ==> f1 score = 0.4395957462742958\n",
      "e = 0.1, n = 15, d = 5 ==> f1 score = 0.6456152550849441\n",
      "e = 0.1, n = 15, d = 10 ==> f1 score = 0.7025402572830877\n",
      "e = 0.1, n = 15, d = 20 ==> f1 score = 0.694954460212315\n",
      "e = 0.1, n = 15, d = 50 ==> f1 score = 0.693606704464401\n",
      "e = 0.1, n = 15, d = 100 ==> f1 score = 0.693606704464401\n",
      "e = 0.1, n = 20, d = 1 ==> f1 score = 0.47012571011542487\n",
      "e = 0.1, n = 20, d = 5 ==> f1 score = 0.6510028931182382\n",
      "e = 0.1, n = 20, d = 10 ==> f1 score = 0.7042005918071427\n",
      "e = 0.1, n = 20, d = 20 ==> f1 score = 0.7027746391348917\n",
      "e = 0.1, n = 20, d = 50 ==> f1 score = 0.6969369804005583\n",
      "e = 0.1, n = 20, d = 100 ==> f1 score = 0.6969369804005583\n",
      "e = 0.1, n = 50, d = 1 ==> f1 score = 0.5272415415881223\n",
      "e = 0.1, n = 50, d = 5 ==> f1 score = 0.6877519084200475\n",
      "e = 0.1, n = 50, d = 10 ==> f1 score = 0.7181006185684286\n",
      "e = 0.1, n = 50, d = 20 ==> f1 score = 0.7222815604488506\n",
      "e = 0.1, n = 50, d = 50 ==> f1 score = 0.716245548978384\n",
      "e = 0.1, n = 50, d = 100 ==> f1 score = 0.716245548978384\n",
      "e = 0.1, n = 100, d = 1 ==> f1 score = 0.568387605625443\n",
      "e = 0.1, n = 100, d = 5 ==> f1 score = 0.7074382827312375\n",
      "e = 0.1, n = 100, d = 10 ==> f1 score = 0.7251595025017579\n",
      "e = 0.1, n = 100, d = 20 ==> f1 score = 0.7292245275125193\n",
      "e = 0.1, n = 100, d = 50 ==> f1 score = 0.7272245358268574\n",
      "e = 0.1, n = 100, d = 100 ==> f1 score = 0.7292483254475158\n",
      "e = 0.1, n = 200, d = 1 ==> f1 score = 0.603560168672109\n",
      "e = 0.1, n = 200, d = 5 ==> f1 score = 0.7150507010558104\n",
      "e = 0.1, n = 200, d = 10 ==> f1 score = 0.7277536405357877\n",
      "e = 0.1, n = 200, d = 20 ==> f1 score = 0.7290579297822631\n",
      "e = 0.1, n = 200, d = 50 ==> f1 score = 0.7278100082376339\n",
      "e = 0.1, n = 200, d = 100 ==> f1 score = 0.7276197764304227\n"
     ]
    }
   ],
   "source": [
    "rf_scores = []\n",
    "print('Random forest classifier')\n",
    "for d in [5, 10, 15, 20, 50, None]:\n",
    "    for n in [5, 10, 15, 20, 50, 100, 200]:\n",
    "        rf = RandomForestClassifier(random_state=RANDOM_STATE, n_estimators=n, max_depth = d,)\n",
    "        rf.fit(X_train_transformed, y_train)\n",
    "        y_validation_pred = rf.predict(X_validation_transformed)\n",
    "        score = f1_score(y_validation, y_validation_pred, average='weighted')\n",
    "        print(f'd = {d}, n = {n} ==> f1 score = {score}')\n",
    "        rf_scores.append((n, d, score))\n",
    "\n",
    "print('************************')\n",
    "print('Decision tree classifier')            \n",
    "dt_scores = []\n",
    "for d in [5, 10, 15, 20, 50, None]:\n",
    "    for l in [1, 3, 5, 10, 15, 20, 30, 50, 100]:\n",
    "        dt = DecisionTreeClassifier(random_state = RANDOM_STATE, max_depth = d, min_samples_leaf= l, )\n",
    "        dt.fit(X_train_transformed, y_train)\n",
    "        y_validation_pred = dt.predict(X_validation_transformed)\n",
    "        score = f1_score(y_validation, y_validation_pred, average='weighted')\n",
    "        print(f'd = {d}, l = {l} ==> f1 score = {score}')\n",
    "        dt_scores.append((l, d, score))\n",
    "\n",
    "print('************************')\n",
    "print('XGBoost classifier')\n",
    "xgb_scores = []\n",
    "for e in [0.001, 0.01, 0.1,]:\n",
    "    for n in [5, 10, 15, 20, 50, 100, 200]:\n",
    "        for d in [1, 5, 10, 20, 50, 100]:\n",
    "            xgb_model = xgb.XGBClassifier(\n",
    "                eta = e, \n",
    "                max_depth = d,\n",
    "                min_child_weight = 1,\n",
    "                objective = 'multi:softmax',\n",
    "                nthread = 12,\n",
    "                seed = 1,\n",
    "                verbosity = 1,\n",
    "                n_estimators = n\n",
    "            )\n",
    "            xgb_model.fit(X_train_transformed, y_train)\n",
    "            y_validation_pred = xgb_model.predict(X_validation_transformed)\n",
    "            score = f1_score(y_validation, y_validation_pred, average='weighted')\n",
    "            print(f'e = {e}, n = {n}, d = {d} ==> f1 score = {score}')\n",
    "            xgb_scores.append((e, n, d, score))"
   ]
  },
  {
   "cell_type": "code",
   "execution_count": 31,
   "id": "9f5afaa4-1cce-42f1-9dc8-8245a3ab73c3",
   "metadata": {
    "tags": []
   },
   "outputs": [],
   "source": [
    "df_rf_scores = pd.DataFrame(rf_scores, columns = ['n_estimators', 'max_depth', 'f1_score'])\n",
    "df_dt_scores = pd.DataFrame(dt_scores, columns = ['max_depth', 'min_samples_leaf', 'f1_score'])\n",
    "df_xgb_scores = pd.DataFrame(xgb_scores, columns = ['eta', 'n_estimators', 'max_depth', 'f1_score'])"
   ]
  },
  {
   "cell_type": "markdown",
   "id": "c371618f-5cbe-4e70-ad5f-3f4438369092",
   "metadata": {
    "tags": []
   },
   "source": [
    "##### Get best parameters for each model"
   ]
  },
  {
   "cell_type": "code",
   "execution_count": 32,
   "id": "0efb30da-f5d4-4e97-9dc3-30ebae5601f3",
   "metadata": {
    "tags": []
   },
   "outputs": [
    {
     "data": {
      "text/html": [
       "<div>\n",
       "<style scoped>\n",
       "    .dataframe tbody tr th:only-of-type {\n",
       "        vertical-align: middle;\n",
       "    }\n",
       "\n",
       "    .dataframe tbody tr th {\n",
       "        vertical-align: top;\n",
       "    }\n",
       "\n",
       "    .dataframe thead th {\n",
       "        text-align: right;\n",
       "    }\n",
       "</style>\n",
       "<table border=\"1\" class=\"dataframe\">\n",
       "  <thead>\n",
       "    <tr style=\"text-align: right;\">\n",
       "      <th></th>\n",
       "      <th>n_estimators</th>\n",
       "      <th>max_depth</th>\n",
       "      <th>f1_score</th>\n",
       "    </tr>\n",
       "  </thead>\n",
       "  <tbody>\n",
       "    <tr>\n",
       "      <th>27</th>\n",
       "      <td>200</td>\n",
       "      <td>20.0</td>\n",
       "      <td>0.704673</td>\n",
       "    </tr>\n",
       "    <tr>\n",
       "      <th>19</th>\n",
       "      <td>100</td>\n",
       "      <td>15.0</td>\n",
       "      <td>0.697510</td>\n",
       "    </tr>\n",
       "    <tr>\n",
       "      <th>20</th>\n",
       "      <td>200</td>\n",
       "      <td>15.0</td>\n",
       "      <td>0.695426</td>\n",
       "    </tr>\n",
       "    <tr>\n",
       "      <th>41</th>\n",
       "      <td>200</td>\n",
       "      <td>NaN</td>\n",
       "      <td>0.695254</td>\n",
       "    </tr>\n",
       "    <tr>\n",
       "      <th>34</th>\n",
       "      <td>200</td>\n",
       "      <td>50.0</td>\n",
       "      <td>0.695254</td>\n",
       "    </tr>\n",
       "  </tbody>\n",
       "</table>\n",
       "</div>"
      ],
      "text/plain": [
       "    n_estimators  max_depth  f1_score\n",
       "27           200       20.0  0.704673\n",
       "19           100       15.0  0.697510\n",
       "20           200       15.0  0.695426\n",
       "41           200        NaN  0.695254\n",
       "34           200       50.0  0.695254"
      ]
     },
     "metadata": {},
     "output_type": "display_data"
    },
    {
     "data": {
      "text/html": [
       "<div>\n",
       "<style scoped>\n",
       "    .dataframe tbody tr th:only-of-type {\n",
       "        vertical-align: middle;\n",
       "    }\n",
       "\n",
       "    .dataframe tbody tr th {\n",
       "        vertical-align: top;\n",
       "    }\n",
       "\n",
       "    .dataframe thead th {\n",
       "        text-align: right;\n",
       "    }\n",
       "</style>\n",
       "<table border=\"1\" class=\"dataframe\">\n",
       "  <thead>\n",
       "    <tr style=\"text-align: right;\">\n",
       "      <th></th>\n",
       "      <th>max_depth</th>\n",
       "      <th>min_samples_leaf</th>\n",
       "      <th>f1_score</th>\n",
       "    </tr>\n",
       "  </thead>\n",
       "  <tbody>\n",
       "    <tr>\n",
       "      <th>10</th>\n",
       "      <td>3</td>\n",
       "      <td>10.0</td>\n",
       "      <td>0.654168</td>\n",
       "    </tr>\n",
       "    <tr>\n",
       "      <th>23</th>\n",
       "      <td>20</td>\n",
       "      <td>15.0</td>\n",
       "      <td>0.653709</td>\n",
       "    </tr>\n",
       "    <tr>\n",
       "      <th>14</th>\n",
       "      <td>20</td>\n",
       "      <td>10.0</td>\n",
       "      <td>0.653150</td>\n",
       "    </tr>\n",
       "    <tr>\n",
       "      <th>32</th>\n",
       "      <td>20</td>\n",
       "      <td>20.0</td>\n",
       "      <td>0.652263</td>\n",
       "    </tr>\n",
       "    <tr>\n",
       "      <th>41</th>\n",
       "      <td>20</td>\n",
       "      <td>50.0</td>\n",
       "      <td>0.652263</td>\n",
       "    </tr>\n",
       "  </tbody>\n",
       "</table>\n",
       "</div>"
      ],
      "text/plain": [
       "    max_depth  min_samples_leaf  f1_score\n",
       "10          3              10.0  0.654168\n",
       "23         20              15.0  0.653709\n",
       "14         20              10.0  0.653150\n",
       "32         20              20.0  0.652263\n",
       "41         20              50.0  0.652263"
      ]
     },
     "metadata": {},
     "output_type": "display_data"
    },
    {
     "data": {
      "text/html": [
       "<div>\n",
       "<style scoped>\n",
       "    .dataframe tbody tr th:only-of-type {\n",
       "        vertical-align: middle;\n",
       "    }\n",
       "\n",
       "    .dataframe tbody tr th {\n",
       "        vertical-align: top;\n",
       "    }\n",
       "\n",
       "    .dataframe thead th {\n",
       "        text-align: right;\n",
       "    }\n",
       "</style>\n",
       "<table border=\"1\" class=\"dataframe\">\n",
       "  <thead>\n",
       "    <tr style=\"text-align: right;\">\n",
       "      <th></th>\n",
       "      <th>eta</th>\n",
       "      <th>n_estimators</th>\n",
       "      <th>max_depth</th>\n",
       "      <th>f1_score</th>\n",
       "    </tr>\n",
       "  </thead>\n",
       "  <tbody>\n",
       "    <tr>\n",
       "      <th>119</th>\n",
       "      <td>0.1</td>\n",
       "      <td>100</td>\n",
       "      <td>100</td>\n",
       "      <td>0.729248</td>\n",
       "    </tr>\n",
       "    <tr>\n",
       "      <th>117</th>\n",
       "      <td>0.1</td>\n",
       "      <td>100</td>\n",
       "      <td>20</td>\n",
       "      <td>0.729225</td>\n",
       "    </tr>\n",
       "    <tr>\n",
       "      <th>123</th>\n",
       "      <td>0.1</td>\n",
       "      <td>200</td>\n",
       "      <td>20</td>\n",
       "      <td>0.729058</td>\n",
       "    </tr>\n",
       "    <tr>\n",
       "      <th>124</th>\n",
       "      <td>0.1</td>\n",
       "      <td>200</td>\n",
       "      <td>50</td>\n",
       "      <td>0.727810</td>\n",
       "    </tr>\n",
       "    <tr>\n",
       "      <th>122</th>\n",
       "      <td>0.1</td>\n",
       "      <td>200</td>\n",
       "      <td>10</td>\n",
       "      <td>0.727754</td>\n",
       "    </tr>\n",
       "  </tbody>\n",
       "</table>\n",
       "</div>"
      ],
      "text/plain": [
       "     eta  n_estimators  max_depth  f1_score\n",
       "119  0.1           100        100  0.729248\n",
       "117  0.1           100         20  0.729225\n",
       "123  0.1           200         20  0.729058\n",
       "124  0.1           200         50  0.727810\n",
       "122  0.1           200         10  0.727754"
      ]
     },
     "metadata": {},
     "output_type": "display_data"
    }
   ],
   "source": [
    "from IPython.display import display\n",
    "\n",
    "display(df_rf_scores.sort_values(by = ['f1_score'], ascending = (False)).head())\n",
    "display(df_dt_scores.sort_values(by = ['f1_score'], ascending = (False)).head())\n",
    "display(df_xgb_scores.sort_values(by = ['f1_score'], ascending = (False)).head())"
   ]
  },
  {
   "cell_type": "code",
   "execution_count": 33,
   "id": "f3154ffa-4d33-44dc-a453-3f0e50a058e8",
   "metadata": {
    "tags": []
   },
   "outputs": [],
   "source": [
    "dt_max_depth = 10\n",
    "dt_min_samples_leaf = 15\n",
    "\n",
    "rf_n_estimators = 100\n",
    "rf_max_depth = 20\n",
    "\n",
    "xgb_eta = 0.1\n",
    "xgb_n_estimators = 50\n",
    "xgb_max_depth = 10"
   ]
  },
  {
   "cell_type": "raw",
   "id": "f780d763-c5be-43ec-8dc4-a327e900bd40",
   "metadata": {},
   "source": [
    "We select best parameters which give both high validation score."
   ]
  },
  {
   "cell_type": "markdown",
   "id": "df99360a-6abe-4188-befd-91ed575beaa6",
   "metadata": {
    "tags": []
   },
   "source": [
    "##### Use Cross validation on each best model"
   ]
  },
  {
   "cell_type": "code",
   "execution_count": 34,
   "id": "9ce00b9b-52c7-4305-875a-b2ead4d04205",
   "metadata": {
    "tags": []
   },
   "outputs": [],
   "source": [
    "dt_model = DecisionTreeClassifier(random_state = RANDOM_STATE, max_depth = dt_max_depth, min_samples_leaf= dt_min_samples_leaf)\n",
    "rf_model = RandomForestClassifier(random_state=RANDOM_STATE, n_estimators= rf_n_estimators, max_depth = rf_max_depth, )\n",
    "xgb_model = xgb.XGBClassifier(\n",
    "                eta = xgb_eta, \n",
    "                max_depth = xgb_max_depth,\n",
    "                min_child_weight = 1,\n",
    "                objective = 'multi:softmax',\n",
    "                nthread = 12,\n",
    "                random_state = RANDOM_STATE,\n",
    "                verbosity = 1,\n",
    "                n_estimators = xgb_n_estimators\n",
    "            )"
   ]
  },
  {
   "cell_type": "raw",
   "id": "62a642c6-3f87-4fc6-b178-c9c7bfccaf88",
   "metadata": {},
   "source": [
    "Use cross validation to select the best model."
   ]
  },
  {
   "cell_type": "code",
   "execution_count": 35,
   "id": "38b47704-dc14-4599-8b50-ca000cda8fdb",
   "metadata": {
    "tags": []
   },
   "outputs": [
    {
     "data": {
      "text/html": [
       "<div>\n",
       "<style scoped>\n",
       "    .dataframe tbody tr th:only-of-type {\n",
       "        vertical-align: middle;\n",
       "    }\n",
       "\n",
       "    .dataframe tbody tr th {\n",
       "        vertical-align: top;\n",
       "    }\n",
       "\n",
       "    .dataframe thead th {\n",
       "        text-align: right;\n",
       "    }\n",
       "</style>\n",
       "<table border=\"1\" class=\"dataframe\">\n",
       "  <thead>\n",
       "    <tr style=\"text-align: right;\">\n",
       "      <th></th>\n",
       "      <th>model</th>\n",
       "      <th>f1_score</th>\n",
       "    </tr>\n",
       "  </thead>\n",
       "  <tbody>\n",
       "    <tr>\n",
       "      <th>0</th>\n",
       "      <td>dt_model</td>\n",
       "      <td>0.664544</td>\n",
       "    </tr>\n",
       "    <tr>\n",
       "      <th>1</th>\n",
       "      <td>rf_model</td>\n",
       "      <td>0.717344</td>\n",
       "    </tr>\n",
       "    <tr>\n",
       "      <th>2</th>\n",
       "      <td>xgb_model</td>\n",
       "      <td>0.730297</td>\n",
       "    </tr>\n",
       "  </tbody>\n",
       "</table>\n",
       "</div>"
      ],
      "text/plain": [
       "       model  f1_score\n",
       "0   dt_model  0.664544\n",
       "1   rf_model  0.717344\n",
       "2  xgb_model  0.730297"
      ]
     },
     "execution_count": 35,
     "metadata": {},
     "output_type": "execute_result"
    }
   ],
   "source": [
    "scores_cv = []\n",
    "for train_idx, val_idx in StratifiedKFold(n_splits=5, shuffle=True, random_state=RANDOM_STATE).split(X_full_train, y_full_train):\n",
    "\n",
    "    X_train_ = X_full_train.iloc[train_idx]\n",
    "    y_train_ = y_full_train.iloc[train_idx]\n",
    "    \n",
    "    X_validation_ = X_full_train.iloc[val_idx]\n",
    "    y_validation_ = y_full_train.iloc[val_idx]\n",
    "    \n",
    "    preprocessor_cv = ColumnTransformer(\n",
    "        transformers=[\n",
    "            ('num', numerical_transformer, make_column_selector(dtype_include=['float64'])),\n",
    "            ('cat', categorical_transformer, make_column_selector(dtype_include=['object'])),\n",
    "        ])\n",
    "\n",
    "    pipeline_cv = Pipeline(steps=[('preprocessor', preprocessor_cv)])\n",
    "    pipeline_cv.fit(X_train_, y_train_)\n",
    "    \n",
    "    X_train_transformed_cv = pipeline_cv.named_steps['preprocessor'].transform(X_train_)\n",
    "    X_validation_transformed_cv = pipeline_cv.named_steps['preprocessor'].transform(X_validation_)\n",
    "    dt_model.fit(X_train_transformed_cv, y_train_)\n",
    "    y_validation_pred = dt_model.predict(X_validation_transformed_cv)\n",
    "    score = f1_score(y_validation_, y_validation_pred, average='weighted')\n",
    "    scores_cv.append(('dt_model', score))\n",
    "    \n",
    "    rf_model.fit(X_train_transformed_cv, y_train_)\n",
    "    y_validation_pred = rf_model.predict(X_validation_transformed_cv)\n",
    "    score = f1_score(y_validation_, y_validation_pred, average='weighted')\n",
    "    scores_cv.append(('rf_model', score))\n",
    "    \n",
    "    xgb_model.fit(X_train_transformed_cv, y_train_)\n",
    "    y_validation_pred = xgb_model.predict(X_validation_transformed_cv)\n",
    "    score = f1_score(y_validation_, y_validation_pred, average='weighted')\n",
    "    scores_cv.append(('xgb_model', score))\n",
    "\n",
    "df_scores_cv = pd.DataFrame(scores_cv, columns = ['model', 'f1_score'])\n",
    "df_scores_cv.groupby(['model'], as_index=False).agg({'f1_score' : 'mean',})"
   ]
  },
  {
   "cell_type": "markdown",
   "id": "42fe11bd-d78d-4d5a-9914-433c30e90df3",
   "metadata": {
    "tags": []
   },
   "source": [
    "##### Choosing baseline model"
   ]
  },
  {
   "cell_type": "raw",
   "id": "15de815f-f818-4876-97e7-02f4a0d718da",
   "metadata": {},
   "source": [
    "We choose XGBoost as our baseline model."
   ]
  },
  {
   "cell_type": "markdown",
   "id": "c385e3e1-b8fb-488c-a88b-0f11b0de0c96",
   "metadata": {
    "tags": []
   },
   "source": [
    "##### Training baseline model"
   ]
  },
  {
   "cell_type": "code",
   "execution_count": 36,
   "id": "e8356c01-2ffa-4deb-b683-be66db99bfe2",
   "metadata": {
    "tags": []
   },
   "outputs": [],
   "source": [
    "pipeline_baseline = Pipeline([\n",
    "    ('preprocessor',  preprocessor),\n",
    "    ('classifier', xgb_model)     \n",
    "])\n"
   ]
  },
  {
   "cell_type": "code",
   "execution_count": 37,
   "id": "59431d8f-8935-4aea-a0f7-829942884983",
   "metadata": {
    "tags": []
   },
   "outputs": [
    {
     "data": {
      "text/html": [
       "<style>#sk-container-id-1 {color: black;}#sk-container-id-1 pre{padding: 0;}#sk-container-id-1 div.sk-toggleable {background-color: white;}#sk-container-id-1 label.sk-toggleable__label {cursor: pointer;display: block;width: 100%;margin-bottom: 0;padding: 0.3em;box-sizing: border-box;text-align: center;}#sk-container-id-1 label.sk-toggleable__label-arrow:before {content: \"▸\";float: left;margin-right: 0.25em;color: #696969;}#sk-container-id-1 label.sk-toggleable__label-arrow:hover:before {color: black;}#sk-container-id-1 div.sk-estimator:hover label.sk-toggleable__label-arrow:before {color: black;}#sk-container-id-1 div.sk-toggleable__content {max-height: 0;max-width: 0;overflow: hidden;text-align: left;background-color: #f0f8ff;}#sk-container-id-1 div.sk-toggleable__content pre {margin: 0.2em;color: black;border-radius: 0.25em;background-color: #f0f8ff;}#sk-container-id-1 input.sk-toggleable__control:checked~div.sk-toggleable__content {max-height: 200px;max-width: 100%;overflow: auto;}#sk-container-id-1 input.sk-toggleable__control:checked~label.sk-toggleable__label-arrow:before {content: \"▾\";}#sk-container-id-1 div.sk-estimator input.sk-toggleable__control:checked~label.sk-toggleable__label {background-color: #d4ebff;}#sk-container-id-1 div.sk-label input.sk-toggleable__control:checked~label.sk-toggleable__label {background-color: #d4ebff;}#sk-container-id-1 input.sk-hidden--visually {border: 0;clip: rect(1px 1px 1px 1px);clip: rect(1px, 1px, 1px, 1px);height: 1px;margin: -1px;overflow: hidden;padding: 0;position: absolute;width: 1px;}#sk-container-id-1 div.sk-estimator {font-family: monospace;background-color: #f0f8ff;border: 1px dotted black;border-radius: 0.25em;box-sizing: border-box;margin-bottom: 0.5em;}#sk-container-id-1 div.sk-estimator:hover {background-color: #d4ebff;}#sk-container-id-1 div.sk-parallel-item::after {content: \"\";width: 100%;border-bottom: 1px solid gray;flex-grow: 1;}#sk-container-id-1 div.sk-label:hover label.sk-toggleable__label {background-color: #d4ebff;}#sk-container-id-1 div.sk-serial::before {content: \"\";position: absolute;border-left: 1px solid gray;box-sizing: border-box;top: 0;bottom: 0;left: 50%;z-index: 0;}#sk-container-id-1 div.sk-serial {display: flex;flex-direction: column;align-items: center;background-color: white;padding-right: 0.2em;padding-left: 0.2em;position: relative;}#sk-container-id-1 div.sk-item {position: relative;z-index: 1;}#sk-container-id-1 div.sk-parallel {display: flex;align-items: stretch;justify-content: center;background-color: white;position: relative;}#sk-container-id-1 div.sk-item::before, #sk-container-id-1 div.sk-parallel-item::before {content: \"\";position: absolute;border-left: 1px solid gray;box-sizing: border-box;top: 0;bottom: 0;left: 50%;z-index: -1;}#sk-container-id-1 div.sk-parallel-item {display: flex;flex-direction: column;z-index: 1;position: relative;background-color: white;}#sk-container-id-1 div.sk-parallel-item:first-child::after {align-self: flex-end;width: 50%;}#sk-container-id-1 div.sk-parallel-item:last-child::after {align-self: flex-start;width: 50%;}#sk-container-id-1 div.sk-parallel-item:only-child::after {width: 0;}#sk-container-id-1 div.sk-dashed-wrapped {border: 1px dashed gray;margin: 0 0.4em 0.5em 0.4em;box-sizing: border-box;padding-bottom: 0.4em;background-color: white;}#sk-container-id-1 div.sk-label label {font-family: monospace;font-weight: bold;display: inline-block;line-height: 1.2em;}#sk-container-id-1 div.sk-label-container {text-align: center;}#sk-container-id-1 div.sk-container {/* jupyter's `normalize.less` sets `[hidden] { display: none; }` but bootstrap.min.css set `[hidden] { display: none !important; }` so we also need the `!important` here to be able to override the default hidden behavior on the sphinx rendered scikit-learn.org. See: https://github.com/scikit-learn/scikit-learn/issues/21755 */display: inline-block !important;position: relative;}#sk-container-id-1 div.sk-text-repr-fallback {display: none;}</style><div id=\"sk-container-id-1\" class=\"sk-top-container\"><div class=\"sk-text-repr-fallback\"><pre>Pipeline(steps=[(&#x27;preprocessor&#x27;,\n",
       "                 ColumnTransformer(transformers=[(&#x27;num&#x27;,\n",
       "                                                  Pipeline(steps=[(&#x27;scaler&#x27;,\n",
       "                                                                   StandardScaler())]),\n",
       "                                                  &lt;sklearn.compose._column_transformer.make_column_selector object at 0x000002ADB4171510&gt;),\n",
       "                                                 (&#x27;cat&#x27;,\n",
       "                                                  Pipeline(steps=[(&#x27;onehot&#x27;,\n",
       "                                                                   OneHotEncoder(drop=&#x27;first&#x27;,\n",
       "                                                                                 handle_unknown=&#x27;ignore&#x27;))]),\n",
       "                                                  &lt;sklearn.compose._column_transformer.make_column_selector ob...\n",
       "                               eval_metric=None, feature_types=None, gamma=None,\n",
       "                               gpu_id=None, grow_policy=None,\n",
       "                               importance_type=None,\n",
       "                               interaction_constraints=None, learning_rate=None,\n",
       "                               max_bin=None, max_cat_threshold=None,\n",
       "                               max_cat_to_onehot=None, max_delta_step=None,\n",
       "                               max_depth=10, max_leaves=None,\n",
       "                               min_child_weight=1, missing=nan,\n",
       "                               monotone_constraints=None, n_estimators=50,\n",
       "                               n_jobs=None, nthread=12, num_parallel_tree=None, ...))])</pre><b>In a Jupyter environment, please rerun this cell to show the HTML representation or trust the notebook. <br />On GitHub, the HTML representation is unable to render, please try loading this page with nbviewer.org.</b></div><div class=\"sk-container\" hidden><div class=\"sk-item sk-dashed-wrapped\"><div class=\"sk-label-container\"><div class=\"sk-label sk-toggleable\"><input class=\"sk-toggleable__control sk-hidden--visually\" id=\"sk-estimator-id-1\" type=\"checkbox\" ><label for=\"sk-estimator-id-1\" class=\"sk-toggleable__label sk-toggleable__label-arrow\">Pipeline</label><div class=\"sk-toggleable__content\"><pre>Pipeline(steps=[(&#x27;preprocessor&#x27;,\n",
       "                 ColumnTransformer(transformers=[(&#x27;num&#x27;,\n",
       "                                                  Pipeline(steps=[(&#x27;scaler&#x27;,\n",
       "                                                                   StandardScaler())]),\n",
       "                                                  &lt;sklearn.compose._column_transformer.make_column_selector object at 0x000002ADB4171510&gt;),\n",
       "                                                 (&#x27;cat&#x27;,\n",
       "                                                  Pipeline(steps=[(&#x27;onehot&#x27;,\n",
       "                                                                   OneHotEncoder(drop=&#x27;first&#x27;,\n",
       "                                                                                 handle_unknown=&#x27;ignore&#x27;))]),\n",
       "                                                  &lt;sklearn.compose._column_transformer.make_column_selector ob...\n",
       "                               eval_metric=None, feature_types=None, gamma=None,\n",
       "                               gpu_id=None, grow_policy=None,\n",
       "                               importance_type=None,\n",
       "                               interaction_constraints=None, learning_rate=None,\n",
       "                               max_bin=None, max_cat_threshold=None,\n",
       "                               max_cat_to_onehot=None, max_delta_step=None,\n",
       "                               max_depth=10, max_leaves=None,\n",
       "                               min_child_weight=1, missing=nan,\n",
       "                               monotone_constraints=None, n_estimators=50,\n",
       "                               n_jobs=None, nthread=12, num_parallel_tree=None, ...))])</pre></div></div></div><div class=\"sk-serial\"><div class=\"sk-item sk-dashed-wrapped\"><div class=\"sk-label-container\"><div class=\"sk-label sk-toggleable\"><input class=\"sk-toggleable__control sk-hidden--visually\" id=\"sk-estimator-id-2\" type=\"checkbox\" ><label for=\"sk-estimator-id-2\" class=\"sk-toggleable__label sk-toggleable__label-arrow\">preprocessor: ColumnTransformer</label><div class=\"sk-toggleable__content\"><pre>ColumnTransformer(transformers=[(&#x27;num&#x27;,\n",
       "                                 Pipeline(steps=[(&#x27;scaler&#x27;, StandardScaler())]),\n",
       "                                 &lt;sklearn.compose._column_transformer.make_column_selector object at 0x000002ADB4171510&gt;),\n",
       "                                (&#x27;cat&#x27;,\n",
       "                                 Pipeline(steps=[(&#x27;onehot&#x27;,\n",
       "                                                  OneHotEncoder(drop=&#x27;first&#x27;,\n",
       "                                                                handle_unknown=&#x27;ignore&#x27;))]),\n",
       "                                 &lt;sklearn.compose._column_transformer.make_column_selector object at 0x000002ADB41F3010&gt;)])</pre></div></div></div><div class=\"sk-parallel\"><div class=\"sk-parallel-item\"><div class=\"sk-item\"><div class=\"sk-label-container\"><div class=\"sk-label sk-toggleable\"><input class=\"sk-toggleable__control sk-hidden--visually\" id=\"sk-estimator-id-3\" type=\"checkbox\" ><label for=\"sk-estimator-id-3\" class=\"sk-toggleable__label sk-toggleable__label-arrow\">num</label><div class=\"sk-toggleable__content\"><pre>&lt;sklearn.compose._column_transformer.make_column_selector object at 0x000002ADB4171510&gt;</pre></div></div></div><div class=\"sk-serial\"><div class=\"sk-item\"><div class=\"sk-serial\"><div class=\"sk-item\"><div class=\"sk-estimator sk-toggleable\"><input class=\"sk-toggleable__control sk-hidden--visually\" id=\"sk-estimator-id-4\" type=\"checkbox\" ><label for=\"sk-estimator-id-4\" class=\"sk-toggleable__label sk-toggleable__label-arrow\">StandardScaler</label><div class=\"sk-toggleable__content\"><pre>StandardScaler()</pre></div></div></div></div></div></div></div></div><div class=\"sk-parallel-item\"><div class=\"sk-item\"><div class=\"sk-label-container\"><div class=\"sk-label sk-toggleable\"><input class=\"sk-toggleable__control sk-hidden--visually\" id=\"sk-estimator-id-5\" type=\"checkbox\" ><label for=\"sk-estimator-id-5\" class=\"sk-toggleable__label sk-toggleable__label-arrow\">cat</label><div class=\"sk-toggleable__content\"><pre>&lt;sklearn.compose._column_transformer.make_column_selector object at 0x000002ADB41F3010&gt;</pre></div></div></div><div class=\"sk-serial\"><div class=\"sk-item\"><div class=\"sk-serial\"><div class=\"sk-item\"><div class=\"sk-estimator sk-toggleable\"><input class=\"sk-toggleable__control sk-hidden--visually\" id=\"sk-estimator-id-6\" type=\"checkbox\" ><label for=\"sk-estimator-id-6\" class=\"sk-toggleable__label sk-toggleable__label-arrow\">OneHotEncoder</label><div class=\"sk-toggleable__content\"><pre>OneHotEncoder(drop=&#x27;first&#x27;, handle_unknown=&#x27;ignore&#x27;)</pre></div></div></div></div></div></div></div></div></div></div><div class=\"sk-item\"><div class=\"sk-estimator sk-toggleable\"><input class=\"sk-toggleable__control sk-hidden--visually\" id=\"sk-estimator-id-7\" type=\"checkbox\" ><label for=\"sk-estimator-id-7\" class=\"sk-toggleable__label sk-toggleable__label-arrow\">XGBClassifier</label><div class=\"sk-toggleable__content\"><pre>XGBClassifier(base_score=None, booster=None, callbacks=None,\n",
       "              colsample_bylevel=None, colsample_bynode=None,\n",
       "              colsample_bytree=None, early_stopping_rounds=None,\n",
       "              enable_categorical=False, eta=0.1, eval_metric=None,\n",
       "              feature_types=None, gamma=None, gpu_id=None, grow_policy=None,\n",
       "              importance_type=None, interaction_constraints=None,\n",
       "              learning_rate=None, max_bin=None, max_cat_threshold=None,\n",
       "              max_cat_to_onehot=None, max_delta_step=None, max_depth=10,\n",
       "              max_leaves=None, min_child_weight=1, missing=nan,\n",
       "              monotone_constraints=None, n_estimators=50, n_jobs=None,\n",
       "              nthread=12, num_parallel_tree=None, ...)</pre></div></div></div></div></div></div></div>"
      ],
      "text/plain": [
       "Pipeline(steps=[('preprocessor',\n",
       "                 ColumnTransformer(transformers=[('num',\n",
       "                                                  Pipeline(steps=[('scaler',\n",
       "                                                                   StandardScaler())]),\n",
       "                                                  <sklearn.compose._column_transformer.make_column_selector object at 0x000002ADB4171510>),\n",
       "                                                 ('cat',\n",
       "                                                  Pipeline(steps=[('onehot',\n",
       "                                                                   OneHotEncoder(drop='first',\n",
       "                                                                                 handle_unknown='ignore'))]),\n",
       "                                                  <sklearn.compose._column_transformer.make_column_selector ob...\n",
       "                               eval_metric=None, feature_types=None, gamma=None,\n",
       "                               gpu_id=None, grow_policy=None,\n",
       "                               importance_type=None,\n",
       "                               interaction_constraints=None, learning_rate=None,\n",
       "                               max_bin=None, max_cat_threshold=None,\n",
       "                               max_cat_to_onehot=None, max_delta_step=None,\n",
       "                               max_depth=10, max_leaves=None,\n",
       "                               min_child_weight=1, missing=nan,\n",
       "                               monotone_constraints=None, n_estimators=50,\n",
       "                               n_jobs=None, nthread=12, num_parallel_tree=None, ...))])"
      ]
     },
     "execution_count": 37,
     "metadata": {},
     "output_type": "execute_result"
    }
   ],
   "source": [
    "pipeline_baseline.fit(X_full_train, y_full_train)"
   ]
  },
  {
   "cell_type": "markdown",
   "id": "b9c6f40d-a9a5-4498-a115-f70d735a7ddf",
   "metadata": {
    "tags": []
   },
   "source": [
    "##### Evaluate baseline model"
   ]
  },
  {
   "cell_type": "code",
   "execution_count": 42,
   "id": "20d5a051-879c-4034-8e2d-52efc22de9dc",
   "metadata": {
    "tags": []
   },
   "outputs": [],
   "source": [
    "df_test['class'] = labelencoder.fit_transform(df_test['class'])\n",
    "X_test = df_test.drop(columns = ['class'])\n",
    "y_test = df_test['class']"
   ]
  },
  {
   "cell_type": "code",
   "execution_count": 43,
   "id": "e1b362ed-7f2c-4715-af57-5ed8333b182a",
   "metadata": {
    "tags": []
   },
   "outputs": [
    {
     "data": {
      "text/plain": [
       "0.756198628763796"
      ]
     },
     "execution_count": 43,
     "metadata": {},
     "output_type": "execute_result"
    }
   ],
   "source": [
    "y_test_pred = pipeline_baseline.predict(X_test)\n",
    "f1_score(y_test, y_test_pred, average = \"weighted\")"
   ]
  },
  {
   "cell_type": "markdown",
   "id": "84cc45b1-df0a-4652-a796-8a6f98ba3fed",
   "metadata": {
    "tags": []
   },
   "source": [
    "##### Feature importance for baseline model"
   ]
  },
  {
   "cell_type": "code",
   "execution_count": 44,
   "id": "7456d518-0018-45eb-9dcc-c12c01049fba",
   "metadata": {
    "tags": []
   },
   "outputs": [
    {
     "data": {
      "text/html": [
       "<div>\n",
       "<style scoped>\n",
       "    .dataframe tbody tr th:only-of-type {\n",
       "        vertical-align: middle;\n",
       "    }\n",
       "\n",
       "    .dataframe tbody tr th {\n",
       "        vertical-align: top;\n",
       "    }\n",
       "\n",
       "    .dataframe thead th {\n",
       "        text-align: right;\n",
       "    }\n",
       "</style>\n",
       "<table border=\"1\" class=\"dataframe\">\n",
       "  <thead>\n",
       "    <tr style=\"text-align: right;\">\n",
       "      <th></th>\n",
       "      <th>name</th>\n",
       "      <th>importance</th>\n",
       "    </tr>\n",
       "  </thead>\n",
       "  <tbody>\n",
       "    <tr>\n",
       "      <th>0</th>\n",
       "      <td>age</td>\n",
       "      <td>4415.0</td>\n",
       "    </tr>\n",
       "    <tr>\n",
       "      <th>1</th>\n",
       "      <td>sit_and_bend_forward_cm</td>\n",
       "      <td>4299.0</td>\n",
       "    </tr>\n",
       "    <tr>\n",
       "      <th>2</th>\n",
       "      <td>gripForce</td>\n",
       "      <td>4202.0</td>\n",
       "    </tr>\n",
       "    <tr>\n",
       "      <th>3</th>\n",
       "      <td>height_cm</td>\n",
       "      <td>4176.0</td>\n",
       "    </tr>\n",
       "    <tr>\n",
       "      <th>4</th>\n",
       "      <td>systolic</td>\n",
       "      <td>3923.0</td>\n",
       "    </tr>\n",
       "    <tr>\n",
       "      <th>5</th>\n",
       "      <td>weight_kg</td>\n",
       "      <td>3514.0</td>\n",
       "    </tr>\n",
       "    <tr>\n",
       "      <th>6</th>\n",
       "      <td>sit_ups_counts</td>\n",
       "      <td>3107.0</td>\n",
       "    </tr>\n",
       "    <tr>\n",
       "      <th>7</th>\n",
       "      <td>gender</td>\n",
       "      <td>2981.0</td>\n",
       "    </tr>\n",
       "    <tr>\n",
       "      <th>8</th>\n",
       "      <td>diastolic</td>\n",
       "      <td>2369.0</td>\n",
       "    </tr>\n",
       "    <tr>\n",
       "      <th>9</th>\n",
       "      <td>body_fat_%</td>\n",
       "      <td>2259.0</td>\n",
       "    </tr>\n",
       "    <tr>\n",
       "      <th>10</th>\n",
       "      <td>broad_jump_cm</td>\n",
       "      <td>529.0</td>\n",
       "    </tr>\n",
       "  </tbody>\n",
       "</table>\n",
       "</div>"
      ],
      "text/plain": [
       "                       name  importance\n",
       "0                       age      4415.0\n",
       "1   sit_and_bend_forward_cm      4299.0\n",
       "2                 gripForce      4202.0\n",
       "3                 height_cm      4176.0\n",
       "4                  systolic      3923.0\n",
       "5                 weight_kg      3514.0\n",
       "6            sit_ups_counts      3107.0\n",
       "7                    gender      2981.0\n",
       "8                 diastolic      2369.0\n",
       "9                body_fat_%      2259.0\n",
       "10            broad_jump_cm       529.0"
      ]
     },
     "execution_count": 44,
     "metadata": {},
     "output_type": "execute_result"
    }
   ],
   "source": [
    "# get feature importance for xgboost\n",
    "xgb_score = pipeline_baseline.named_steps['classifier'].get_booster().get_fscore()\n",
    "df_xgb_score = pd.DataFrame({'name' : X_full_train.columns.tolist() , 'importance' : [v for v in xgb_score.values()]})\n",
    "df_xgb_score.sort_values(by = ['importance'], ascending = False).reset_index(drop = True)"
   ]
  },
  {
   "cell_type": "markdown",
   "id": "43ab35db-3c25-4c2d-9ef2-d62dfefd0bed",
   "metadata": {},
   "source": [
    "### Improve baseline model"
   ]
  },
  {
   "cell_type": "markdown",
   "id": "b47cf571-424f-400d-b919-7515fe22beda",
   "metadata": {
    "tags": []
   },
   "source": [
    "#### Feature engineering for model improvement"
   ]
  },
  {
   "cell_type": "raw",
   "id": "d065b628-951f-4a10-bded-7416f6c250fa",
   "metadata": {},
   "source": [
    "Let's create the following features to improve our model performance."
   ]
  },
  {
   "cell_type": "raw",
   "id": "b520536f-a3a0-4211-9b02-9f1035bfc6cb",
   "metadata": {},
   "source": [
    "1. BMI (Body Mass Index) : Why?\n",
    "Both height_cm and weight_kg are in the top 6 features.\n",
    "BMI is a well-known measure for body composition and performance.\n",
    "\n",
    "2. Strength Index : Why?\n",
    "gripForce and sit_ups_counts are indicators of muscular strength, dividing it by weight_kg normalizes strength relative to body mass.\n",
    "\n",
    "3. Cardio Score: Why?\n",
    "systolic and diastolic blood pressure impact endurance, dividing it by age adjusts for age-related cardiovascular decline.\n",
    "\n",
    "4. Body Fat to Strength Ratio: Why? \n",
    "High values may indicate poor fitness levels."
   ]
  },
  {
   "cell_type": "code",
   "execution_count": 45,
   "id": "d309b357-8015-4f31-83cf-15b1648ad162",
   "metadata": {
    "tags": []
   },
   "outputs": [],
   "source": [
    "df_full_train['bmi'] =  df_full_train['weight_kg'] / (df_full_train['height_cm'] / 100) ** 2\n",
    "df_full_train['strength_index'] = (df_full_train['gripForce'] + df_full_train['sit_ups_counts']) / df_full_train['weight_kg']\n",
    "df_full_train['cardio_score'] = (df_full_train['systolic'] + df_full_train['diastolic']) / df_full_train['age']\n",
    "df_full_train['body_fat_strength_ratio'] = df_full_train['body_fat_%'] / (df_full_train['gripForce'] + df_full_train['sit_ups_counts'])"
   ]
  },
  {
   "cell_type": "code",
   "execution_count": 46,
   "id": "7d436d42-c0b9-4066-bdb1-1caa51cd87d7",
   "metadata": {
    "tags": []
   },
   "outputs": [],
   "source": [
    "df_full_train_selected = df_full_train[['gender', 'height_cm', 'weight_kg', 'body_fat_%', 'diastolic',\n",
    "       'systolic', 'gripForce', 'sit_and_bend_forward_cm', 'sit_ups_counts',\n",
    "       'broad_jump_cm', 'age', 'bmi', 'strength_index', 'cardio_score', 'body_fat_strength_ratio', 'class']]"
   ]
  },
  {
   "cell_type": "code",
   "execution_count": 47,
   "id": "44fc3345-bcc4-4418-9172-cd6c774d4a0b",
   "metadata": {
    "tags": []
   },
   "outputs": [],
   "source": [
    "X_full_train_selected = df_full_train_selected.drop(columns = ['class'])\n",
    "y_full_train_selected = df_full_train_selected['class']"
   ]
  },
  {
   "cell_type": "code",
   "execution_count": 48,
   "id": "a2827e4e-57cb-4e23-a8bd-b69b83b6fccf",
   "metadata": {
    "tags": []
   },
   "outputs": [
    {
     "data": {
      "text/html": [
       "<style>#sk-container-id-2 {color: black;}#sk-container-id-2 pre{padding: 0;}#sk-container-id-2 div.sk-toggleable {background-color: white;}#sk-container-id-2 label.sk-toggleable__label {cursor: pointer;display: block;width: 100%;margin-bottom: 0;padding: 0.3em;box-sizing: border-box;text-align: center;}#sk-container-id-2 label.sk-toggleable__label-arrow:before {content: \"▸\";float: left;margin-right: 0.25em;color: #696969;}#sk-container-id-2 label.sk-toggleable__label-arrow:hover:before {color: black;}#sk-container-id-2 div.sk-estimator:hover label.sk-toggleable__label-arrow:before {color: black;}#sk-container-id-2 div.sk-toggleable__content {max-height: 0;max-width: 0;overflow: hidden;text-align: left;background-color: #f0f8ff;}#sk-container-id-2 div.sk-toggleable__content pre {margin: 0.2em;color: black;border-radius: 0.25em;background-color: #f0f8ff;}#sk-container-id-2 input.sk-toggleable__control:checked~div.sk-toggleable__content {max-height: 200px;max-width: 100%;overflow: auto;}#sk-container-id-2 input.sk-toggleable__control:checked~label.sk-toggleable__label-arrow:before {content: \"▾\";}#sk-container-id-2 div.sk-estimator input.sk-toggleable__control:checked~label.sk-toggleable__label {background-color: #d4ebff;}#sk-container-id-2 div.sk-label input.sk-toggleable__control:checked~label.sk-toggleable__label {background-color: #d4ebff;}#sk-container-id-2 input.sk-hidden--visually {border: 0;clip: rect(1px 1px 1px 1px);clip: rect(1px, 1px, 1px, 1px);height: 1px;margin: -1px;overflow: hidden;padding: 0;position: absolute;width: 1px;}#sk-container-id-2 div.sk-estimator {font-family: monospace;background-color: #f0f8ff;border: 1px dotted black;border-radius: 0.25em;box-sizing: border-box;margin-bottom: 0.5em;}#sk-container-id-2 div.sk-estimator:hover {background-color: #d4ebff;}#sk-container-id-2 div.sk-parallel-item::after {content: \"\";width: 100%;border-bottom: 1px solid gray;flex-grow: 1;}#sk-container-id-2 div.sk-label:hover label.sk-toggleable__label {background-color: #d4ebff;}#sk-container-id-2 div.sk-serial::before {content: \"\";position: absolute;border-left: 1px solid gray;box-sizing: border-box;top: 0;bottom: 0;left: 50%;z-index: 0;}#sk-container-id-2 div.sk-serial {display: flex;flex-direction: column;align-items: center;background-color: white;padding-right: 0.2em;padding-left: 0.2em;position: relative;}#sk-container-id-2 div.sk-item {position: relative;z-index: 1;}#sk-container-id-2 div.sk-parallel {display: flex;align-items: stretch;justify-content: center;background-color: white;position: relative;}#sk-container-id-2 div.sk-item::before, #sk-container-id-2 div.sk-parallel-item::before {content: \"\";position: absolute;border-left: 1px solid gray;box-sizing: border-box;top: 0;bottom: 0;left: 50%;z-index: -1;}#sk-container-id-2 div.sk-parallel-item {display: flex;flex-direction: column;z-index: 1;position: relative;background-color: white;}#sk-container-id-2 div.sk-parallel-item:first-child::after {align-self: flex-end;width: 50%;}#sk-container-id-2 div.sk-parallel-item:last-child::after {align-self: flex-start;width: 50%;}#sk-container-id-2 div.sk-parallel-item:only-child::after {width: 0;}#sk-container-id-2 div.sk-dashed-wrapped {border: 1px dashed gray;margin: 0 0.4em 0.5em 0.4em;box-sizing: border-box;padding-bottom: 0.4em;background-color: white;}#sk-container-id-2 div.sk-label label {font-family: monospace;font-weight: bold;display: inline-block;line-height: 1.2em;}#sk-container-id-2 div.sk-label-container {text-align: center;}#sk-container-id-2 div.sk-container {/* jupyter's `normalize.less` sets `[hidden] { display: none; }` but bootstrap.min.css set `[hidden] { display: none !important; }` so we also need the `!important` here to be able to override the default hidden behavior on the sphinx rendered scikit-learn.org. See: https://github.com/scikit-learn/scikit-learn/issues/21755 */display: inline-block !important;position: relative;}#sk-container-id-2 div.sk-text-repr-fallback {display: none;}</style><div id=\"sk-container-id-2\" class=\"sk-top-container\"><div class=\"sk-text-repr-fallback\"><pre>Pipeline(steps=[(&#x27;preprocessor&#x27;,\n",
       "                 ColumnTransformer(transformers=[(&#x27;num&#x27;,\n",
       "                                                  Pipeline(steps=[(&#x27;scaler&#x27;,\n",
       "                                                                   StandardScaler())]),\n",
       "                                                  &lt;sklearn.compose._column_transformer.make_column_selector object at 0x000002ADB4171510&gt;),\n",
       "                                                 (&#x27;cat&#x27;,\n",
       "                                                  Pipeline(steps=[(&#x27;onehot&#x27;,\n",
       "                                                                   OneHotEncoder(drop=&#x27;first&#x27;,\n",
       "                                                                                 handle_unknown=&#x27;ignore&#x27;))]),\n",
       "                                                  &lt;sklearn.compose._column_transformer.make_column_selector ob...\n",
       "                               eval_metric=None, feature_types=None, gamma=None,\n",
       "                               gpu_id=None, grow_policy=None,\n",
       "                               importance_type=None,\n",
       "                               interaction_constraints=None, learning_rate=None,\n",
       "                               max_bin=None, max_cat_threshold=None,\n",
       "                               max_cat_to_onehot=None, max_delta_step=None,\n",
       "                               max_depth=10, max_leaves=None,\n",
       "                               min_child_weight=1, missing=nan,\n",
       "                               monotone_constraints=None, n_estimators=50,\n",
       "                               n_jobs=None, nthread=12, num_parallel_tree=None, ...))])</pre><b>In a Jupyter environment, please rerun this cell to show the HTML representation or trust the notebook. <br />On GitHub, the HTML representation is unable to render, please try loading this page with nbviewer.org.</b></div><div class=\"sk-container\" hidden><div class=\"sk-item sk-dashed-wrapped\"><div class=\"sk-label-container\"><div class=\"sk-label sk-toggleable\"><input class=\"sk-toggleable__control sk-hidden--visually\" id=\"sk-estimator-id-8\" type=\"checkbox\" ><label for=\"sk-estimator-id-8\" class=\"sk-toggleable__label sk-toggleable__label-arrow\">Pipeline</label><div class=\"sk-toggleable__content\"><pre>Pipeline(steps=[(&#x27;preprocessor&#x27;,\n",
       "                 ColumnTransformer(transformers=[(&#x27;num&#x27;,\n",
       "                                                  Pipeline(steps=[(&#x27;scaler&#x27;,\n",
       "                                                                   StandardScaler())]),\n",
       "                                                  &lt;sklearn.compose._column_transformer.make_column_selector object at 0x000002ADB4171510&gt;),\n",
       "                                                 (&#x27;cat&#x27;,\n",
       "                                                  Pipeline(steps=[(&#x27;onehot&#x27;,\n",
       "                                                                   OneHotEncoder(drop=&#x27;first&#x27;,\n",
       "                                                                                 handle_unknown=&#x27;ignore&#x27;))]),\n",
       "                                                  &lt;sklearn.compose._column_transformer.make_column_selector ob...\n",
       "                               eval_metric=None, feature_types=None, gamma=None,\n",
       "                               gpu_id=None, grow_policy=None,\n",
       "                               importance_type=None,\n",
       "                               interaction_constraints=None, learning_rate=None,\n",
       "                               max_bin=None, max_cat_threshold=None,\n",
       "                               max_cat_to_onehot=None, max_delta_step=None,\n",
       "                               max_depth=10, max_leaves=None,\n",
       "                               min_child_weight=1, missing=nan,\n",
       "                               monotone_constraints=None, n_estimators=50,\n",
       "                               n_jobs=None, nthread=12, num_parallel_tree=None, ...))])</pre></div></div></div><div class=\"sk-serial\"><div class=\"sk-item sk-dashed-wrapped\"><div class=\"sk-label-container\"><div class=\"sk-label sk-toggleable\"><input class=\"sk-toggleable__control sk-hidden--visually\" id=\"sk-estimator-id-9\" type=\"checkbox\" ><label for=\"sk-estimator-id-9\" class=\"sk-toggleable__label sk-toggleable__label-arrow\">preprocessor: ColumnTransformer</label><div class=\"sk-toggleable__content\"><pre>ColumnTransformer(transformers=[(&#x27;num&#x27;,\n",
       "                                 Pipeline(steps=[(&#x27;scaler&#x27;, StandardScaler())]),\n",
       "                                 &lt;sklearn.compose._column_transformer.make_column_selector object at 0x000002ADB4171510&gt;),\n",
       "                                (&#x27;cat&#x27;,\n",
       "                                 Pipeline(steps=[(&#x27;onehot&#x27;,\n",
       "                                                  OneHotEncoder(drop=&#x27;first&#x27;,\n",
       "                                                                handle_unknown=&#x27;ignore&#x27;))]),\n",
       "                                 &lt;sklearn.compose._column_transformer.make_column_selector object at 0x000002ADB41F3010&gt;)])</pre></div></div></div><div class=\"sk-parallel\"><div class=\"sk-parallel-item\"><div class=\"sk-item\"><div class=\"sk-label-container\"><div class=\"sk-label sk-toggleable\"><input class=\"sk-toggleable__control sk-hidden--visually\" id=\"sk-estimator-id-10\" type=\"checkbox\" ><label for=\"sk-estimator-id-10\" class=\"sk-toggleable__label sk-toggleable__label-arrow\">num</label><div class=\"sk-toggleable__content\"><pre>&lt;sklearn.compose._column_transformer.make_column_selector object at 0x000002ADB4171510&gt;</pre></div></div></div><div class=\"sk-serial\"><div class=\"sk-item\"><div class=\"sk-serial\"><div class=\"sk-item\"><div class=\"sk-estimator sk-toggleable\"><input class=\"sk-toggleable__control sk-hidden--visually\" id=\"sk-estimator-id-11\" type=\"checkbox\" ><label for=\"sk-estimator-id-11\" class=\"sk-toggleable__label sk-toggleable__label-arrow\">StandardScaler</label><div class=\"sk-toggleable__content\"><pre>StandardScaler()</pre></div></div></div></div></div></div></div></div><div class=\"sk-parallel-item\"><div class=\"sk-item\"><div class=\"sk-label-container\"><div class=\"sk-label sk-toggleable\"><input class=\"sk-toggleable__control sk-hidden--visually\" id=\"sk-estimator-id-12\" type=\"checkbox\" ><label for=\"sk-estimator-id-12\" class=\"sk-toggleable__label sk-toggleable__label-arrow\">cat</label><div class=\"sk-toggleable__content\"><pre>&lt;sklearn.compose._column_transformer.make_column_selector object at 0x000002ADB41F3010&gt;</pre></div></div></div><div class=\"sk-serial\"><div class=\"sk-item\"><div class=\"sk-serial\"><div class=\"sk-item\"><div class=\"sk-estimator sk-toggleable\"><input class=\"sk-toggleable__control sk-hidden--visually\" id=\"sk-estimator-id-13\" type=\"checkbox\" ><label for=\"sk-estimator-id-13\" class=\"sk-toggleable__label sk-toggleable__label-arrow\">OneHotEncoder</label><div class=\"sk-toggleable__content\"><pre>OneHotEncoder(drop=&#x27;first&#x27;, handle_unknown=&#x27;ignore&#x27;)</pre></div></div></div></div></div></div></div></div></div></div><div class=\"sk-item\"><div class=\"sk-estimator sk-toggleable\"><input class=\"sk-toggleable__control sk-hidden--visually\" id=\"sk-estimator-id-14\" type=\"checkbox\" ><label for=\"sk-estimator-id-14\" class=\"sk-toggleable__label sk-toggleable__label-arrow\">XGBClassifier</label><div class=\"sk-toggleable__content\"><pre>XGBClassifier(base_score=None, booster=None, callbacks=None,\n",
       "              colsample_bylevel=None, colsample_bynode=None,\n",
       "              colsample_bytree=None, early_stopping_rounds=None,\n",
       "              enable_categorical=False, eta=0.1, eval_metric=None,\n",
       "              feature_types=None, gamma=None, gpu_id=None, grow_policy=None,\n",
       "              importance_type=None, interaction_constraints=None,\n",
       "              learning_rate=None, max_bin=None, max_cat_threshold=None,\n",
       "              max_cat_to_onehot=None, max_delta_step=None, max_depth=10,\n",
       "              max_leaves=None, min_child_weight=1, missing=nan,\n",
       "              monotone_constraints=None, n_estimators=50, n_jobs=None,\n",
       "              nthread=12, num_parallel_tree=None, ...)</pre></div></div></div></div></div></div></div>"
      ],
      "text/plain": [
       "Pipeline(steps=[('preprocessor',\n",
       "                 ColumnTransformer(transformers=[('num',\n",
       "                                                  Pipeline(steps=[('scaler',\n",
       "                                                                   StandardScaler())]),\n",
       "                                                  <sklearn.compose._column_transformer.make_column_selector object at 0x000002ADB4171510>),\n",
       "                                                 ('cat',\n",
       "                                                  Pipeline(steps=[('onehot',\n",
       "                                                                   OneHotEncoder(drop='first',\n",
       "                                                                                 handle_unknown='ignore'))]),\n",
       "                                                  <sklearn.compose._column_transformer.make_column_selector ob...\n",
       "                               eval_metric=None, feature_types=None, gamma=None,\n",
       "                               gpu_id=None, grow_policy=None,\n",
       "                               importance_type=None,\n",
       "                               interaction_constraints=None, learning_rate=None,\n",
       "                               max_bin=None, max_cat_threshold=None,\n",
       "                               max_cat_to_onehot=None, max_delta_step=None,\n",
       "                               max_depth=10, max_leaves=None,\n",
       "                               min_child_weight=1, missing=nan,\n",
       "                               monotone_constraints=None, n_estimators=50,\n",
       "                               n_jobs=None, nthread=12, num_parallel_tree=None, ...))])"
      ]
     },
     "execution_count": 48,
     "metadata": {},
     "output_type": "execute_result"
    }
   ],
   "source": [
    "pipeline_model_1 = Pipeline([\n",
    "    ('preprocessor',  preprocessor),\n",
    "    ('classifier', xgb_model)     \n",
    "])\n",
    "\n",
    "pipeline_model_1.fit(X_full_train_selected, y_full_train_selected)"
   ]
  },
  {
   "cell_type": "code",
   "execution_count": 50,
   "id": "a1318950-00e3-4a57-8d3f-3b0a21c42037",
   "metadata": {
    "tags": []
   },
   "outputs": [],
   "source": [
    "X_test['bmi'] =  X_test['weight_kg'] / (X_test['height_cm'] / 100) ** 2\n",
    "X_test['strength_index'] = (X_test['gripForce'] + X_test['sit_ups_counts']) / X_test['weight_kg']\n",
    "X_test['cardio_score'] = (X_test['systolic'] + X_test['diastolic']) / X_test['age']\n",
    "X_test['body_fat_strength_ratio'] = X_test['body_fat_%'] / (X_test['gripForce'] + X_test['sit_ups_counts'])"
   ]
  },
  {
   "cell_type": "markdown",
   "id": "a3bfda95-2123-43ca-9600-d3ae73f91059",
   "metadata": {
    "tags": []
   },
   "source": [
    "##### Evaluate model v1"
   ]
  },
  {
   "cell_type": "code",
   "execution_count": 51,
   "id": "d30c1d9a-a2e9-4e3f-b932-0e3ff6901deb",
   "metadata": {
    "tags": []
   },
   "outputs": [
    {
     "data": {
      "text/plain": [
       "0.7557333820577016"
      ]
     },
     "execution_count": 51,
     "metadata": {},
     "output_type": "execute_result"
    }
   ],
   "source": [
    "y_test_pred = pipeline_model_1.predict(X_test[['gender', 'height_cm', 'weight_kg', 'body_fat_%', 'diastolic',\n",
    "       'systolic', 'gripForce', 'sit_and_bend_forward_cm', 'sit_ups_counts',\n",
    "       'broad_jump_cm', 'age', 'bmi', 'strength_index', 'cardio_score', 'body_fat_strength_ratio',]])\n",
    "f1_score(y_test, y_test_pred, average = \"weighted\")"
   ]
  },
  {
   "cell_type": "raw",
   "id": "3b5a32e8-7c45-4f6e-b64b-2461d3981fdd",
   "metadata": {},
   "source": [
    "We observe here that model v1 doesn't perform as excepted as model baseline.\n",
    "Let's use feature importance to check top feature of model and use them in another model."
   ]
  },
  {
   "cell_type": "raw",
   "id": "0513c45e-e26e-4da1-8f3a-7fd9f6bf4914",
   "metadata": {},
   "source": [
    "The new features did not add new information, they were likely redundant.\n",
    "It seems that XGBoost already captures non-linear interactions well, making explicit feature crossing less impactful."
   ]
  },
  {
   "cell_type": "markdown",
   "id": "0d34c0bb-bdfc-4083-8689-90ccecac2595",
   "metadata": {
    "tags": []
   },
   "source": [
    "##### Feature importance for model v1"
   ]
  },
  {
   "cell_type": "code",
   "execution_count": 52,
   "id": "ee3135ec-00cc-477a-8a0b-1dc6e51d753a",
   "metadata": {
    "tags": []
   },
   "outputs": [
    {
     "data": {
      "text/html": [
       "<div>\n",
       "<style scoped>\n",
       "    .dataframe tbody tr th:only-of-type {\n",
       "        vertical-align: middle;\n",
       "    }\n",
       "\n",
       "    .dataframe tbody tr th {\n",
       "        vertical-align: top;\n",
       "    }\n",
       "\n",
       "    .dataframe thead th {\n",
       "        text-align: right;\n",
       "    }\n",
       "</style>\n",
       "<table border=\"1\" class=\"dataframe\">\n",
       "  <thead>\n",
       "    <tr style=\"text-align: right;\">\n",
       "      <th></th>\n",
       "      <th>name</th>\n",
       "      <th>importance</th>\n",
       "    </tr>\n",
       "  </thead>\n",
       "  <tbody>\n",
       "    <tr>\n",
       "      <th>0</th>\n",
       "      <td>gripForce</td>\n",
       "      <td>3715.0</td>\n",
       "    </tr>\n",
       "    <tr>\n",
       "      <th>1</th>\n",
       "      <td>sit_and_bend_forward_cm</td>\n",
       "      <td>3275.0</td>\n",
       "    </tr>\n",
       "    <tr>\n",
       "      <th>2</th>\n",
       "      <td>bmi</td>\n",
       "      <td>2915.0</td>\n",
       "    </tr>\n",
       "    <tr>\n",
       "      <th>3</th>\n",
       "      <td>systolic</td>\n",
       "      <td>2788.0</td>\n",
       "    </tr>\n",
       "    <tr>\n",
       "      <th>4</th>\n",
       "      <td>broad_jump_cm</td>\n",
       "      <td>2773.0</td>\n",
       "    </tr>\n",
       "    <tr>\n",
       "      <th>5</th>\n",
       "      <td>strength_index</td>\n",
       "      <td>2512.0</td>\n",
       "    </tr>\n",
       "    <tr>\n",
       "      <th>6</th>\n",
       "      <td>sit_ups_counts</td>\n",
       "      <td>2434.0</td>\n",
       "    </tr>\n",
       "    <tr>\n",
       "      <th>7</th>\n",
       "      <td>age</td>\n",
       "      <td>2432.0</td>\n",
       "    </tr>\n",
       "    <tr>\n",
       "      <th>8</th>\n",
       "      <td>weight_kg</td>\n",
       "      <td>2382.0</td>\n",
       "    </tr>\n",
       "    <tr>\n",
       "      <th>9</th>\n",
       "      <td>gender</td>\n",
       "      <td>2250.0</td>\n",
       "    </tr>\n",
       "    <tr>\n",
       "      <th>10</th>\n",
       "      <td>height_cm</td>\n",
       "      <td>1988.0</td>\n",
       "    </tr>\n",
       "    <tr>\n",
       "      <th>11</th>\n",
       "      <td>cardio_score</td>\n",
       "      <td>1931.0</td>\n",
       "    </tr>\n",
       "    <tr>\n",
       "      <th>12</th>\n",
       "      <td>body_fat_%</td>\n",
       "      <td>1797.0</td>\n",
       "    </tr>\n",
       "    <tr>\n",
       "      <th>13</th>\n",
       "      <td>diastolic</td>\n",
       "      <td>1773.0</td>\n",
       "    </tr>\n",
       "    <tr>\n",
       "      <th>14</th>\n",
       "      <td>body_fat_strength_ratio</td>\n",
       "      <td>449.0</td>\n",
       "    </tr>\n",
       "  </tbody>\n",
       "</table>\n",
       "</div>"
      ],
      "text/plain": [
       "                       name  importance\n",
       "0                 gripForce      3715.0\n",
       "1   sit_and_bend_forward_cm      3275.0\n",
       "2                       bmi      2915.0\n",
       "3                  systolic      2788.0\n",
       "4             broad_jump_cm      2773.0\n",
       "5            strength_index      2512.0\n",
       "6            sit_ups_counts      2434.0\n",
       "7                       age      2432.0\n",
       "8                 weight_kg      2382.0\n",
       "9                    gender      2250.0\n",
       "10                height_cm      1988.0\n",
       "11             cardio_score      1931.0\n",
       "12               body_fat_%      1797.0\n",
       "13                diastolic      1773.0\n",
       "14  body_fat_strength_ratio       449.0"
      ]
     },
     "execution_count": 52,
     "metadata": {},
     "output_type": "execute_result"
    }
   ],
   "source": [
    "# get feature importance for xgboost\n",
    "xgb_score_v1 = pipeline_model_1.named_steps['classifier'].get_booster().get_fscore()\n",
    "df_xgb_score_v1 = pd.DataFrame({'name' : X_full_train_selected.columns.tolist() , 'importance' : [v for v in xgb_score_v1.values()]})\n",
    "df_xgb_score_v1.sort_values(by = ['importance'], ascending = False).reset_index(drop = True)"
   ]
  },
  {
   "cell_type": "markdown",
   "id": "d9de15d5-21e1-4ae6-9219-b54fb23e21ac",
   "metadata": {
    "tags": []
   },
   "source": [
    "#### Use features selection for improving model V1"
   ]
  },
  {
   "cell_type": "raw",
   "id": "a06120e1-06ec-4dd2-b8e0-c8b94c7f14c0",
   "metadata": {},
   "source": [
    "Let's use TOP 10 features."
   ]
  },
  {
   "cell_type": "code",
   "execution_count": 89,
   "id": "a6e86fd0-9863-40e4-a621-dac4525e7fde",
   "metadata": {
    "tags": []
   },
   "outputs": [
    {
     "data": {
      "text/plain": [
       "['gripForce',\n",
       " 'sit_and_bend_forward_cm',\n",
       " 'bmi',\n",
       " 'systolic',\n",
       " 'broad_jump_cm',\n",
       " 'strength_index',\n",
       " 'sit_ups_counts',\n",
       " 'age',\n",
       " 'weight_kg',\n",
       " 'gender']"
      ]
     },
     "execution_count": 89,
     "metadata": {},
     "output_type": "execute_result"
    }
   ],
   "source": [
    "top_10 = df_xgb_score_v1.sort_values(by = ['importance'], ascending = (False)).head(10)['name'].tolist()\n",
    "top_10"
   ]
  },
  {
   "cell_type": "code",
   "execution_count": 90,
   "id": "f81f2bf4-6eec-4890-b5f7-69f5ac62e36b",
   "metadata": {
    "tags": []
   },
   "outputs": [],
   "source": [
    "X_full_train_selected_new = df_full_train_selected[top_10]"
   ]
  },
  {
   "cell_type": "code",
   "execution_count": 91,
   "id": "bd90ff46-57b4-46f3-a4e8-284407125727",
   "metadata": {
    "tags": []
   },
   "outputs": [
    {
     "data": {
      "text/html": [
       "<style>#sk-container-id-11 {color: black;}#sk-container-id-11 pre{padding: 0;}#sk-container-id-11 div.sk-toggleable {background-color: white;}#sk-container-id-11 label.sk-toggleable__label {cursor: pointer;display: block;width: 100%;margin-bottom: 0;padding: 0.3em;box-sizing: border-box;text-align: center;}#sk-container-id-11 label.sk-toggleable__label-arrow:before {content: \"▸\";float: left;margin-right: 0.25em;color: #696969;}#sk-container-id-11 label.sk-toggleable__label-arrow:hover:before {color: black;}#sk-container-id-11 div.sk-estimator:hover label.sk-toggleable__label-arrow:before {color: black;}#sk-container-id-11 div.sk-toggleable__content {max-height: 0;max-width: 0;overflow: hidden;text-align: left;background-color: #f0f8ff;}#sk-container-id-11 div.sk-toggleable__content pre {margin: 0.2em;color: black;border-radius: 0.25em;background-color: #f0f8ff;}#sk-container-id-11 input.sk-toggleable__control:checked~div.sk-toggleable__content {max-height: 200px;max-width: 100%;overflow: auto;}#sk-container-id-11 input.sk-toggleable__control:checked~label.sk-toggleable__label-arrow:before {content: \"▾\";}#sk-container-id-11 div.sk-estimator input.sk-toggleable__control:checked~label.sk-toggleable__label {background-color: #d4ebff;}#sk-container-id-11 div.sk-label input.sk-toggleable__control:checked~label.sk-toggleable__label {background-color: #d4ebff;}#sk-container-id-11 input.sk-hidden--visually {border: 0;clip: rect(1px 1px 1px 1px);clip: rect(1px, 1px, 1px, 1px);height: 1px;margin: -1px;overflow: hidden;padding: 0;position: absolute;width: 1px;}#sk-container-id-11 div.sk-estimator {font-family: monospace;background-color: #f0f8ff;border: 1px dotted black;border-radius: 0.25em;box-sizing: border-box;margin-bottom: 0.5em;}#sk-container-id-11 div.sk-estimator:hover {background-color: #d4ebff;}#sk-container-id-11 div.sk-parallel-item::after {content: \"\";width: 100%;border-bottom: 1px solid gray;flex-grow: 1;}#sk-container-id-11 div.sk-label:hover label.sk-toggleable__label {background-color: #d4ebff;}#sk-container-id-11 div.sk-serial::before {content: \"\";position: absolute;border-left: 1px solid gray;box-sizing: border-box;top: 0;bottom: 0;left: 50%;z-index: 0;}#sk-container-id-11 div.sk-serial {display: flex;flex-direction: column;align-items: center;background-color: white;padding-right: 0.2em;padding-left: 0.2em;position: relative;}#sk-container-id-11 div.sk-item {position: relative;z-index: 1;}#sk-container-id-11 div.sk-parallel {display: flex;align-items: stretch;justify-content: center;background-color: white;position: relative;}#sk-container-id-11 div.sk-item::before, #sk-container-id-11 div.sk-parallel-item::before {content: \"\";position: absolute;border-left: 1px solid gray;box-sizing: border-box;top: 0;bottom: 0;left: 50%;z-index: -1;}#sk-container-id-11 div.sk-parallel-item {display: flex;flex-direction: column;z-index: 1;position: relative;background-color: white;}#sk-container-id-11 div.sk-parallel-item:first-child::after {align-self: flex-end;width: 50%;}#sk-container-id-11 div.sk-parallel-item:last-child::after {align-self: flex-start;width: 50%;}#sk-container-id-11 div.sk-parallel-item:only-child::after {width: 0;}#sk-container-id-11 div.sk-dashed-wrapped {border: 1px dashed gray;margin: 0 0.4em 0.5em 0.4em;box-sizing: border-box;padding-bottom: 0.4em;background-color: white;}#sk-container-id-11 div.sk-label label {font-family: monospace;font-weight: bold;display: inline-block;line-height: 1.2em;}#sk-container-id-11 div.sk-label-container {text-align: center;}#sk-container-id-11 div.sk-container {/* jupyter's `normalize.less` sets `[hidden] { display: none; }` but bootstrap.min.css set `[hidden] { display: none !important; }` so we also need the `!important` here to be able to override the default hidden behavior on the sphinx rendered scikit-learn.org. See: https://github.com/scikit-learn/scikit-learn/issues/21755 */display: inline-block !important;position: relative;}#sk-container-id-11 div.sk-text-repr-fallback {display: none;}</style><div id=\"sk-container-id-11\" class=\"sk-top-container\"><div class=\"sk-text-repr-fallback\"><pre>Pipeline(steps=[(&#x27;preprocessor&#x27;,\n",
       "                 ColumnTransformer(transformers=[(&#x27;num&#x27;,\n",
       "                                                  Pipeline(steps=[(&#x27;scaler&#x27;,\n",
       "                                                                   StandardScaler())]),\n",
       "                                                  &lt;sklearn.compose._column_transformer.make_column_selector object at 0x000002ADB4171510&gt;),\n",
       "                                                 (&#x27;cat&#x27;,\n",
       "                                                  Pipeline(steps=[(&#x27;onehot&#x27;,\n",
       "                                                                   OneHotEncoder(drop=&#x27;first&#x27;,\n",
       "                                                                                 handle_unknown=&#x27;ignore&#x27;))]),\n",
       "                                                  &lt;sklearn.compose._column_transformer.make_column_selector ob...\n",
       "                               eval_metric=None, feature_types=None, gamma=None,\n",
       "                               gpu_id=None, grow_policy=None,\n",
       "                               importance_type=None,\n",
       "                               interaction_constraints=None, learning_rate=None,\n",
       "                               max_bin=None, max_cat_threshold=None,\n",
       "                               max_cat_to_onehot=None, max_delta_step=None,\n",
       "                               max_depth=10, max_leaves=None,\n",
       "                               min_child_weight=1, missing=nan,\n",
       "                               monotone_constraints=None, n_estimators=50,\n",
       "                               n_jobs=None, nthread=12, num_parallel_tree=None, ...))])</pre><b>In a Jupyter environment, please rerun this cell to show the HTML representation or trust the notebook. <br />On GitHub, the HTML representation is unable to render, please try loading this page with nbviewer.org.</b></div><div class=\"sk-container\" hidden><div class=\"sk-item sk-dashed-wrapped\"><div class=\"sk-label-container\"><div class=\"sk-label sk-toggleable\"><input class=\"sk-toggleable__control sk-hidden--visually\" id=\"sk-estimator-id-71\" type=\"checkbox\" ><label for=\"sk-estimator-id-71\" class=\"sk-toggleable__label sk-toggleable__label-arrow\">Pipeline</label><div class=\"sk-toggleable__content\"><pre>Pipeline(steps=[(&#x27;preprocessor&#x27;,\n",
       "                 ColumnTransformer(transformers=[(&#x27;num&#x27;,\n",
       "                                                  Pipeline(steps=[(&#x27;scaler&#x27;,\n",
       "                                                                   StandardScaler())]),\n",
       "                                                  &lt;sklearn.compose._column_transformer.make_column_selector object at 0x000002ADB4171510&gt;),\n",
       "                                                 (&#x27;cat&#x27;,\n",
       "                                                  Pipeline(steps=[(&#x27;onehot&#x27;,\n",
       "                                                                   OneHotEncoder(drop=&#x27;first&#x27;,\n",
       "                                                                                 handle_unknown=&#x27;ignore&#x27;))]),\n",
       "                                                  &lt;sklearn.compose._column_transformer.make_column_selector ob...\n",
       "                               eval_metric=None, feature_types=None, gamma=None,\n",
       "                               gpu_id=None, grow_policy=None,\n",
       "                               importance_type=None,\n",
       "                               interaction_constraints=None, learning_rate=None,\n",
       "                               max_bin=None, max_cat_threshold=None,\n",
       "                               max_cat_to_onehot=None, max_delta_step=None,\n",
       "                               max_depth=10, max_leaves=None,\n",
       "                               min_child_weight=1, missing=nan,\n",
       "                               monotone_constraints=None, n_estimators=50,\n",
       "                               n_jobs=None, nthread=12, num_parallel_tree=None, ...))])</pre></div></div></div><div class=\"sk-serial\"><div class=\"sk-item sk-dashed-wrapped\"><div class=\"sk-label-container\"><div class=\"sk-label sk-toggleable\"><input class=\"sk-toggleable__control sk-hidden--visually\" id=\"sk-estimator-id-72\" type=\"checkbox\" ><label for=\"sk-estimator-id-72\" class=\"sk-toggleable__label sk-toggleable__label-arrow\">preprocessor: ColumnTransformer</label><div class=\"sk-toggleable__content\"><pre>ColumnTransformer(transformers=[(&#x27;num&#x27;,\n",
       "                                 Pipeline(steps=[(&#x27;scaler&#x27;, StandardScaler())]),\n",
       "                                 &lt;sklearn.compose._column_transformer.make_column_selector object at 0x000002ADB4171510&gt;),\n",
       "                                (&#x27;cat&#x27;,\n",
       "                                 Pipeline(steps=[(&#x27;onehot&#x27;,\n",
       "                                                  OneHotEncoder(drop=&#x27;first&#x27;,\n",
       "                                                                handle_unknown=&#x27;ignore&#x27;))]),\n",
       "                                 &lt;sklearn.compose._column_transformer.make_column_selector object at 0x000002ADB41F3010&gt;)])</pre></div></div></div><div class=\"sk-parallel\"><div class=\"sk-parallel-item\"><div class=\"sk-item\"><div class=\"sk-label-container\"><div class=\"sk-label sk-toggleable\"><input class=\"sk-toggleable__control sk-hidden--visually\" id=\"sk-estimator-id-73\" type=\"checkbox\" ><label for=\"sk-estimator-id-73\" class=\"sk-toggleable__label sk-toggleable__label-arrow\">num</label><div class=\"sk-toggleable__content\"><pre>&lt;sklearn.compose._column_transformer.make_column_selector object at 0x000002ADB4171510&gt;</pre></div></div></div><div class=\"sk-serial\"><div class=\"sk-item\"><div class=\"sk-serial\"><div class=\"sk-item\"><div class=\"sk-estimator sk-toggleable\"><input class=\"sk-toggleable__control sk-hidden--visually\" id=\"sk-estimator-id-74\" type=\"checkbox\" ><label for=\"sk-estimator-id-74\" class=\"sk-toggleable__label sk-toggleable__label-arrow\">StandardScaler</label><div class=\"sk-toggleable__content\"><pre>StandardScaler()</pre></div></div></div></div></div></div></div></div><div class=\"sk-parallel-item\"><div class=\"sk-item\"><div class=\"sk-label-container\"><div class=\"sk-label sk-toggleable\"><input class=\"sk-toggleable__control sk-hidden--visually\" id=\"sk-estimator-id-75\" type=\"checkbox\" ><label for=\"sk-estimator-id-75\" class=\"sk-toggleable__label sk-toggleable__label-arrow\">cat</label><div class=\"sk-toggleable__content\"><pre>&lt;sklearn.compose._column_transformer.make_column_selector object at 0x000002ADB41F3010&gt;</pre></div></div></div><div class=\"sk-serial\"><div class=\"sk-item\"><div class=\"sk-serial\"><div class=\"sk-item\"><div class=\"sk-estimator sk-toggleable\"><input class=\"sk-toggleable__control sk-hidden--visually\" id=\"sk-estimator-id-76\" type=\"checkbox\" ><label for=\"sk-estimator-id-76\" class=\"sk-toggleable__label sk-toggleable__label-arrow\">OneHotEncoder</label><div class=\"sk-toggleable__content\"><pre>OneHotEncoder(drop=&#x27;first&#x27;, handle_unknown=&#x27;ignore&#x27;)</pre></div></div></div></div></div></div></div></div></div></div><div class=\"sk-item\"><div class=\"sk-estimator sk-toggleable\"><input class=\"sk-toggleable__control sk-hidden--visually\" id=\"sk-estimator-id-77\" type=\"checkbox\" ><label for=\"sk-estimator-id-77\" class=\"sk-toggleable__label sk-toggleable__label-arrow\">XGBClassifier</label><div class=\"sk-toggleable__content\"><pre>XGBClassifier(base_score=None, booster=None, callbacks=None,\n",
       "              colsample_bylevel=None, colsample_bynode=None,\n",
       "              colsample_bytree=None, early_stopping_rounds=None,\n",
       "              enable_categorical=False, eta=0.1, eval_metric=None,\n",
       "              feature_types=None, gamma=None, gpu_id=None, grow_policy=None,\n",
       "              importance_type=None, interaction_constraints=None,\n",
       "              learning_rate=None, max_bin=None, max_cat_threshold=None,\n",
       "              max_cat_to_onehot=None, max_delta_step=None, max_depth=10,\n",
       "              max_leaves=None, min_child_weight=1, missing=nan,\n",
       "              monotone_constraints=None, n_estimators=50, n_jobs=None,\n",
       "              nthread=12, num_parallel_tree=None, ...)</pre></div></div></div></div></div></div></div>"
      ],
      "text/plain": [
       "Pipeline(steps=[('preprocessor',\n",
       "                 ColumnTransformer(transformers=[('num',\n",
       "                                                  Pipeline(steps=[('scaler',\n",
       "                                                                   StandardScaler())]),\n",
       "                                                  <sklearn.compose._column_transformer.make_column_selector object at 0x000002ADB4171510>),\n",
       "                                                 ('cat',\n",
       "                                                  Pipeline(steps=[('onehot',\n",
       "                                                                   OneHotEncoder(drop='first',\n",
       "                                                                                 handle_unknown='ignore'))]),\n",
       "                                                  <sklearn.compose._column_transformer.make_column_selector ob...\n",
       "                               eval_metric=None, feature_types=None, gamma=None,\n",
       "                               gpu_id=None, grow_policy=None,\n",
       "                               importance_type=None,\n",
       "                               interaction_constraints=None, learning_rate=None,\n",
       "                               max_bin=None, max_cat_threshold=None,\n",
       "                               max_cat_to_onehot=None, max_delta_step=None,\n",
       "                               max_depth=10, max_leaves=None,\n",
       "                               min_child_weight=1, missing=nan,\n",
       "                               monotone_constraints=None, n_estimators=50,\n",
       "                               n_jobs=None, nthread=12, num_parallel_tree=None, ...))])"
      ]
     },
     "execution_count": 91,
     "metadata": {},
     "output_type": "execute_result"
    }
   ],
   "source": [
    "pipeline_model_2 = Pipeline([\n",
    "    ('preprocessor',  preprocessor),\n",
    "    ('classifier', xgb_model)     \n",
    "])\n",
    "\n",
    "pipeline_model_2.fit(X_full_train_selected_new, y_full_train_selected)"
   ]
  },
  {
   "cell_type": "markdown",
   "id": "876ca374-c727-4d37-b768-df8ed4bdfc0b",
   "metadata": {
    "tags": []
   },
   "source": [
    "##### Evaluate model v2"
   ]
  },
  {
   "cell_type": "code",
   "execution_count": 92,
   "id": "a602ba2b-34d0-43ae-923c-0baafa40177e",
   "metadata": {
    "tags": []
   },
   "outputs": [
    {
     "data": {
      "text/plain": [
       "0.73987255815223"
      ]
     },
     "execution_count": 92,
     "metadata": {},
     "output_type": "execute_result"
    }
   ],
   "source": [
    "y_test_pred = pipeline_model_2.predict(X_test[top_10])\n",
    "f1_score(y_test, y_test_pred, average = \"weighted\")"
   ]
  },
  {
   "cell_type": "raw",
   "id": "d1382904-7b46-409b-85cb-3ef70b9ad31e",
   "metadata": {},
   "source": [
    "By using top 10 features, we observe that model performance dicrease :/ .\n",
    "Some less important features still contributed to classification.\n",
    "Removing them led to loss of useful information.\n",
    "So finally, let's keep baseline model as our best model."
   ]
  }
 ],
 "metadata": {
  "kernelspec": {
   "display_name": "Python 3 (ipykernel)",
   "language": "python",
   "name": "python3"
  },
  "language_info": {
   "codemirror_mode": {
    "name": "ipython",
    "version": 3
   },
   "file_extension": ".py",
   "mimetype": "text/x-python",
   "name": "python",
   "nbconvert_exporter": "python",
   "pygments_lexer": "ipython3",
   "version": "3.11.5"
  }
 },
 "nbformat": 4,
 "nbformat_minor": 5
}
